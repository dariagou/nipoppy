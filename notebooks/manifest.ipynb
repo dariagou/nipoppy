{
 "cells": [
  {
   "attachments": {},
   "cell_type": "markdown",
   "metadata": {},
   "source": [
    "## Code to generate mr_proc_manifest.csv\n",
    "- Based on this [schema](https://www.neurobagel.org/documentation/mr_proc/configs/)\n",
    "\n",
    "### QPN naming convention\n",
    "- `visit`: timepoint of **ANY** clinical (i.e. UPDRS, MoCA, Neuropsy) data collected \n",
    "    - e.g. V01, V02 etc. \n",
    "- `session`: timepoint of MRI collection\n",
    "    - e.g. ses-01, ses-02 etc.\n",
    "- `event`: timepoint relative to a consensus baseline (used for inter-modality i.e. MRI vs clinical data harmonization) \n",
    "    - e.g. baseline, m06, m12 etc. "
   ]
  },
  {
   "cell_type": "code",
   "execution_count": 8,
   "metadata": {},
   "outputs": [],
   "source": [
    "import pandas as pd\n",
    "import numpy as np"
   ]
  },
  {
   "cell_type": "markdown",
   "metadata": {},
   "source": [
    "### Paths"
   ]
  },
  {
   "cell_type": "code",
   "execution_count": 9,
   "metadata": {},
   "outputs": [],
   "source": [
    "releases_dir = \"/home/nikhil/projects/Parkinsons/qpn/releases/\"\n",
    "\n",
    "previous_release = \"Nov_2022\"\n",
    "current_release = \"Apr_2022\"\n",
    "\n",
    "# Previous mr_proc manifest\n",
    "previous_mr_proc_manifest_csv = f\"{releases_dir}{previous_release}/tabular/mr_proc_manifest.csv\"\n",
    "\n",
    "# Current mr_proc manifest\n",
    "current_mr_proc_manifest_csv = f\"{releases_dir}{current_release}/tabular/mr_proc_manifest.csv\"\n",
    "\n",
    "# Current recruit manifest\n",
    "current_recruit_manifest_xls = f\"{releases_dir}{current_release}/tabular/QPN_Imaging_Codes.xlsx\""
   ]
  },
  {
   "cell_type": "markdown",
   "metadata": {},
   "source": [
    "### Read recruitment manifest from previous release"
   ]
  },
  {
   "cell_type": "code",
   "execution_count": 10,
   "metadata": {},
   "outputs": [
    {
     "name": "stdout",
     "output_type": "stream",
     "text": [
      "number of participants from previous mr_proc release: 208\n"
     ]
    },
    {
     "data": {
      "text/html": [
       "<div>\n",
       "<style scoped>\n",
       "    .dataframe tbody tr th:only-of-type {\n",
       "        vertical-align: middle;\n",
       "    }\n",
       "\n",
       "    .dataframe tbody tr th {\n",
       "        vertical-align: top;\n",
       "    }\n",
       "\n",
       "    .dataframe thead th {\n",
       "        text-align: right;\n",
       "    }\n",
       "</style>\n",
       "<table border=\"1\" class=\"dataframe\">\n",
       "  <thead>\n",
       "    <tr style=\"text-align: right;\">\n",
       "      <th></th>\n",
       "      <th>participant_id</th>\n",
       "      <th>sex</th>\n",
       "      <th>dob</th>\n",
       "      <th>group</th>\n",
       "      <th>visit_01</th>\n",
       "      <th>visit_02</th>\n",
       "      <th>bids_id</th>\n",
       "    </tr>\n",
       "  </thead>\n",
       "  <tbody>\n",
       "    <tr>\n",
       "      <th>0</th>\n",
       "      <td>MNI0056</td>\n",
       "      <td>M</td>\n",
       "      <td>1942-05-21</td>\n",
       "      <td>PD</td>\n",
       "      <td>2021-08-18</td>\n",
       "      <td>NaN</td>\n",
       "      <td>sub-MNI0056D864854</td>\n",
       "    </tr>\n",
       "    <tr>\n",
       "      <th>1</th>\n",
       "      <td>MNI0058</td>\n",
       "      <td>M</td>\n",
       "      <td>1964-03-14</td>\n",
       "      <td>PD</td>\n",
       "      <td>2021-08-18</td>\n",
       "      <td>NaN</td>\n",
       "      <td>sub-MNI0058D197308</td>\n",
       "    </tr>\n",
       "    <tr>\n",
       "      <th>2</th>\n",
       "      <td>MNI0068</td>\n",
       "      <td>M</td>\n",
       "      <td>1952-08-05</td>\n",
       "      <td>PD</td>\n",
       "      <td>2021-08-27</td>\n",
       "      <td>NaN</td>\n",
       "      <td>sub-MNI0068D842090</td>\n",
       "    </tr>\n",
       "    <tr>\n",
       "      <th>3</th>\n",
       "      <td>MNI0079</td>\n",
       "      <td>F</td>\n",
       "      <td>1971-11-25</td>\n",
       "      <td>PD</td>\n",
       "      <td>2021-12-22</td>\n",
       "      <td>NaN</td>\n",
       "      <td>sub-MNI0079D760662</td>\n",
       "    </tr>\n",
       "    <tr>\n",
       "      <th>4</th>\n",
       "      <td>MNI0103</td>\n",
       "      <td>M</td>\n",
       "      <td>1939-08-17</td>\n",
       "      <td>PD</td>\n",
       "      <td>2021-08-11</td>\n",
       "      <td>NaN</td>\n",
       "      <td>sub-MNI0103D369057</td>\n",
       "    </tr>\n",
       "  </tbody>\n",
       "</table>\n",
       "</div>"
      ],
      "text/plain": [
       "  participant_id sex         dob group    visit_01 visit_02  \\\n",
       "0        MNI0056   M  1942-05-21    PD  2021-08-18      NaN   \n",
       "1        MNI0058   M  1964-03-14    PD  2021-08-18      NaN   \n",
       "2        MNI0068   M  1952-08-05    PD  2021-08-27      NaN   \n",
       "3        MNI0079   F  1971-11-25    PD  2021-12-22      NaN   \n",
       "4        MNI0103   M  1939-08-17    PD  2021-08-11      NaN   \n",
       "\n",
       "              bids_id  \n",
       "0  sub-MNI0056D864854  \n",
       "1  sub-MNI0058D197308  \n",
       "2  sub-MNI0068D842090  \n",
       "3  sub-MNI0079D760662  \n",
       "4  sub-MNI0103D369057  "
      ]
     },
     "execution_count": 10,
     "metadata": {},
     "output_type": "execute_result"
    }
   ],
   "source": [
    "previous_recruit_manifest_df = pd.read_csv(previous_mr_proc_manifest_csv)\n",
    "previous_recruit_manifest_df[\"participant_id\"] = previous_recruit_manifest_df[\"participant_id\"].str.strip()\n",
    "mr_proc_participants_previous = previous_recruit_manifest_df[\"participant_id\"].dropna().unique()\n",
    "n_mr_proc_participants_previous = len(mr_proc_participants_previous)\n",
    "\n",
    "print(f\"number of participants from previous mr_proc release: {n_mr_proc_participants_previous}\")\n",
    "previous_recruit_manifest_df.head()"
   ]
  },
  {
   "attachments": {},
   "cell_type": "markdown",
   "metadata": {},
   "source": [
    "### Read latest recruitment manifest\n",
    "- Using group as a longitudinal clinical var \n",
    "- This allows inclusion of participants with demographic info but without specific clinical scores"
   ]
  },
  {
   "cell_type": "code",
   "execution_count": 11,
   "metadata": {},
   "outputs": [
    {
     "name": "stdout",
     "output_type": "stream",
     "text": [
      "number of participants from current mr_proc release: 208\n",
      "n_MRI01: 208, n_MRI02: 16\n"
     ]
    },
    {
     "data": {
      "text/html": [
       "<div>\n",
       "<style scoped>\n",
       "    .dataframe tbody tr th:only-of-type {\n",
       "        vertical-align: middle;\n",
       "    }\n",
       "\n",
       "    .dataframe tbody tr th {\n",
       "        vertical-align: top;\n",
       "    }\n",
       "\n",
       "    .dataframe thead th {\n",
       "        text-align: right;\n",
       "    }\n",
       "</style>\n",
       "<table border=\"1\" class=\"dataframe\">\n",
       "  <thead>\n",
       "    <tr style=\"text-align: right;\">\n",
       "      <th></th>\n",
       "      <th>participant_id</th>\n",
       "      <th>group</th>\n",
       "      <th>MRI_V1</th>\n",
       "      <th>MRI_V2</th>\n",
       "      <th>Neuropsy_V1</th>\n",
       "      <th>Neuropsy_V2</th>\n",
       "      <th>UPDRS_V1</th>\n",
       "      <th>UPDRS_V2</th>\n",
       "      <th>MoCA_V1</th>\n",
       "      <th>MoCA_V2</th>\n",
       "      <th>MoCA_V3</th>\n",
       "      <th>TUG_V1</th>\n",
       "      <th>TUG_V2</th>\n",
       "    </tr>\n",
       "  </thead>\n",
       "  <tbody>\n",
       "    <tr>\n",
       "      <th>0</th>\n",
       "      <td>MNI0056</td>\n",
       "      <td>PD</td>\n",
       "      <td>2021-08-18</td>\n",
       "      <td>NaT</td>\n",
       "      <td>2021-07-30</td>\n",
       "      <td>NaT</td>\n",
       "      <td>2021-06-11</td>\n",
       "      <td>NaT</td>\n",
       "      <td>2021-06-11 00:00:00</td>\n",
       "      <td>NaN</td>\n",
       "      <td>NaT</td>\n",
       "      <td>2021-09-03</td>\n",
       "      <td>NaT</td>\n",
       "    </tr>\n",
       "    <tr>\n",
       "      <th>1</th>\n",
       "      <td>MNI0058</td>\n",
       "      <td>PD</td>\n",
       "      <td>2021-08-18</td>\n",
       "      <td>NaT</td>\n",
       "      <td>2021-08-18</td>\n",
       "      <td>NaT</td>\n",
       "      <td>2021-07-23</td>\n",
       "      <td>NaT</td>\n",
       "      <td>2021-07-23 00:00:00</td>\n",
       "      <td>NaN</td>\n",
       "      <td>NaT</td>\n",
       "      <td>2021-07-23</td>\n",
       "      <td>NaT</td>\n",
       "    </tr>\n",
       "    <tr>\n",
       "      <th>2</th>\n",
       "      <td>MNI0068</td>\n",
       "      <td>PD</td>\n",
       "      <td>2021-08-27</td>\n",
       "      <td>NaT</td>\n",
       "      <td>2021-08-18</td>\n",
       "      <td>NaT</td>\n",
       "      <td>2021-08-27</td>\n",
       "      <td>NaT</td>\n",
       "      <td>NaN</td>\n",
       "      <td>NaN</td>\n",
       "      <td>NaT</td>\n",
       "      <td>NaT</td>\n",
       "      <td>NaT</td>\n",
       "    </tr>\n",
       "    <tr>\n",
       "      <th>3</th>\n",
       "      <td>MNI0079</td>\n",
       "      <td>PD</td>\n",
       "      <td>2021-12-22</td>\n",
       "      <td>NaT</td>\n",
       "      <td>2022-01-21</td>\n",
       "      <td>NaT</td>\n",
       "      <td>2022-01-21</td>\n",
       "      <td>NaT</td>\n",
       "      <td>2021-12-22 00:00:00</td>\n",
       "      <td>NaN</td>\n",
       "      <td>NaT</td>\n",
       "      <td>2021-07-02</td>\n",
       "      <td>NaT</td>\n",
       "    </tr>\n",
       "    <tr>\n",
       "      <th>4</th>\n",
       "      <td>MNI0103</td>\n",
       "      <td>PD</td>\n",
       "      <td>2021-11-08</td>\n",
       "      <td>NaT</td>\n",
       "      <td>2021-10-01</td>\n",
       "      <td>NaT</td>\n",
       "      <td>2021-10-01</td>\n",
       "      <td>NaT</td>\n",
       "      <td>2021-11-08 00:00:00</td>\n",
       "      <td>NaN</td>\n",
       "      <td>NaT</td>\n",
       "      <td>NaT</td>\n",
       "      <td>NaT</td>\n",
       "    </tr>\n",
       "  </tbody>\n",
       "</table>\n",
       "</div>"
      ],
      "text/plain": [
       "  participant_id group     MRI_V1 MRI_V2 Neuropsy_V1 Neuropsy_V2   UPDRS_V1  \\\n",
       "0        MNI0056    PD 2021-08-18    NaT  2021-07-30         NaT 2021-06-11   \n",
       "1        MNI0058    PD 2021-08-18    NaT  2021-08-18         NaT 2021-07-23   \n",
       "2        MNI0068    PD 2021-08-27    NaT  2021-08-18         NaT 2021-08-27   \n",
       "3        MNI0079    PD 2021-12-22    NaT  2022-01-21         NaT 2022-01-21   \n",
       "4        MNI0103    PD 2021-11-08    NaT  2021-10-01         NaT 2021-10-01   \n",
       "\n",
       "  UPDRS_V2              MoCA_V1 MoCA_V2 MoCA_V3     TUG_V1 TUG_V2  \n",
       "0      NaT  2021-06-11 00:00:00     NaN     NaT 2021-09-03    NaT  \n",
       "1      NaT  2021-07-23 00:00:00     NaN     NaT 2021-07-23    NaT  \n",
       "2      NaT                  NaN     NaN     NaT        NaT    NaT  \n",
       "3      NaT  2021-12-22 00:00:00     NaN     NaT 2021-07-02    NaT  \n",
       "4      NaT  2021-11-08 00:00:00     NaN     NaT        NaT    NaT  "
      ]
     },
     "execution_count": 11,
     "metadata": {},
     "output_type": "execute_result"
    }
   ],
   "source": [
    "sheet_name = \"Dashboard\" #\"recruit_manifest\"\n",
    "\n",
    "assessment_dict = {\n",
    "    \"MRI\": [\"MRI\"],\n",
    "    \"clinical\": [\"Neuropsy\",\"TUG\",\"UPDRS\",\"MoCA\"] \n",
    "}\n",
    "\n",
    "# useful cols\n",
    "useful_cols = {\"MRI Time 1\": \"MRI_V1\", \"MRI Time 2\": \"MRI_V2\", \n",
    "            \"Neuropsy Time 1\":\"Neuropsy_V1\", \"Neuropsy Time 2\":\"Neuropsy_V2\", \n",
    "            \"TUG Time 1\": \"TUG_V1\", \"TUG Time 2\": \"TUG_V2\",\n",
    "            \"UPDRS (part III) Time 1\":\"UPDRS_V1\", \"UPDRS (part III) Time 2\":\"UPDRS_V2\",\n",
    "            \"MoCA Time 1\":\"MoCA_V1\", \"MoCA Time 2\":\"MoCA_V2\",\"MoCA time 3\":\"MoCA_V3\"}\n",
    "\n",
    "column_list = [\"participant_id\", \"group\"] + list(useful_cols.keys())\n",
    "\n",
    "dashboard_df = pd.read_excel(current_recruit_manifest_xls,sheet_name=sheet_name, engine='openpyxl',usecols=column_list)\n",
    "\n",
    "dashboard_df = dashboard_df.dropna(how=\"all\", axis=0)\n",
    "dashboard_df[\"participant_id\"] = dashboard_df[\"participant_id\"].str.strip()\n",
    "\n",
    "dashboard_df = dashboard_df.rename(columns=useful_cols)\n",
    "for col in useful_cols.values():\n",
    "    dashboard_df[col] = pd.to_datetime(dashboard_df[col],errors=\"coerce\", dayfirst=True) #Note: format=\"%d-%m-%Y\" skips MRI02 dates\n",
    "\n",
    "mr_proc_participants_current = dashboard_df[\"participant_id\"].dropna().unique()\n",
    "n_mr_proc_participants_current = len(mr_proc_participants_current)\n",
    "print(f\"number of participants from current mr_proc release: {n_mr_proc_participants_current}\")\n",
    "n_MRI01 = len(dashboard_df[~dashboard_df[\"MRI_V1\"].isna()])\n",
    "n_MRI02 = len(dashboard_df[~dashboard_df[\"MRI_V2\"].isna()])\n",
    "print(f\"n_MRI01: {n_MRI01}, n_MRI02: {n_MRI02}\")\n",
    "dashboard_df.head()"
   ]
  },
  {
   "cell_type": "markdown",
   "metadata": {},
   "source": [
    "### Get new participants"
   ]
  },
  {
   "cell_type": "code",
   "execution_count": 12,
   "metadata": {},
   "outputs": [
    {
     "name": "stdout",
     "output_type": "stream",
     "text": [
      "number of new participants: 2\n"
     ]
    }
   ],
   "source": [
    "partcipants_additions = list(set(mr_proc_participants_current) - set(mr_proc_participants_previous))\n",
    "\n",
    "print(f\"number of new participants: {len(partcipants_additions)}\")"
   ]
  },
  {
   "attachments": {},
   "cell_type": "markdown",
   "metadata": {},
   "source": [
    "### Generate current_mr_proc_manifest_df\n",
    "\n",
    "- Populate manifest with available clinical visits / MRI sessions\n",
    "- Datatypes: Assuming QPN has all 4 BIDS datatypes: [\"anat\",\"dwi\",\"fmap\",\"func\"]\n",
    "\n",
    "- Sample `mr_proc_manifest.csv`\n",
    "\n",
    "| participant_id | participant_dicom_dir | visit | session | datatype                     | bids_id |\n",
    "|----------------|-----------------------|-------|---------|------------------------------|---------|\n",
    "| 001            | MyStudy_001_V2021      | V01   | ses-01  | [\"anat\",\"dwi\",\"fmap\",\"func\"] | sub-001 |\n",
    "| 001            | MyStudy_001_V2022      | V02   | ses-02  | [\"anat\"]                     | sub-001 |\n",
    "| 002            | MyStudy_002_V2021      | V01   | ses-01  | [\"anat\",\"dwi\"]               | sub-002 |\n",
    "| 002            | MyStudy_002_V2024      | V03   | ses-03  | [\"anat\",\"dwi\"]               | sub-002 |"
   ]
  },
  {
   "cell_type": "code",
   "execution_count": 13,
   "metadata": {},
   "outputs": [
    {
     "data": {
      "text/html": [
       "<div>\n",
       "<style scoped>\n",
       "    .dataframe tbody tr th:only-of-type {\n",
       "        vertical-align: middle;\n",
       "    }\n",
       "\n",
       "    .dataframe tbody tr th {\n",
       "        vertical-align: top;\n",
       "    }\n",
       "\n",
       "    .dataframe thead th {\n",
       "        text-align: right;\n",
       "    }\n",
       "</style>\n",
       "<table border=\"1\" class=\"dataframe\">\n",
       "  <thead>\n",
       "    <tr style=\"text-align: right;\">\n",
       "      <th></th>\n",
       "      <th>visit</th>\n",
       "      <th>session</th>\n",
       "      <th>datatype</th>\n",
       "    </tr>\n",
       "  </thead>\n",
       "  <tbody>\n",
       "    <tr>\n",
       "      <th>MNI0056</th>\n",
       "      <td>V01</td>\n",
       "      <td>ses-01</td>\n",
       "      <td>[anat, dwi, fmap, func]</td>\n",
       "    </tr>\n",
       "    <tr>\n",
       "      <th>MNI0058</th>\n",
       "      <td>V01</td>\n",
       "      <td>ses-01</td>\n",
       "      <td>[anat, dwi, fmap, func]</td>\n",
       "    </tr>\n",
       "    <tr>\n",
       "      <th>MNI0068</th>\n",
       "      <td>V01</td>\n",
       "      <td>ses-01</td>\n",
       "      <td>[anat, dwi, fmap, func]</td>\n",
       "    </tr>\n",
       "    <tr>\n",
       "      <th>MNI0079</th>\n",
       "      <td>V01</td>\n",
       "      <td>ses-01</td>\n",
       "      <td>[anat, dwi, fmap, func]</td>\n",
       "    </tr>\n",
       "    <tr>\n",
       "      <th>MNI0103</th>\n",
       "      <td>V01</td>\n",
       "      <td>ses-01</td>\n",
       "      <td>[anat, dwi, fmap, func]</td>\n",
       "    </tr>\n",
       "  </tbody>\n",
       "</table>\n",
       "</div>"
      ],
      "text/plain": [
       "        visit session                 datatype\n",
       "MNI0056   V01  ses-01  [anat, dwi, fmap, func]\n",
       "MNI0058   V01  ses-01  [anat, dwi, fmap, func]\n",
       "MNI0068   V01  ses-01  [anat, dwi, fmap, func]\n",
       "MNI0079   V01  ses-01  [anat, dwi, fmap, func]\n",
       "MNI0103   V01  ses-01  [anat, dwi, fmap, func]"
      ]
     },
     "execution_count": 13,
     "metadata": {},
     "output_type": "execute_result"
    }
   ],
   "source": [
    "visit_ids = [\"1\",\"2\"]\n",
    "manifest_cols = [\"visit\",\"session\",\"datatype\"]\n",
    "avail_datatypes = [\"anat\",\"dwi\",\"fmap\",\"func\"]\n",
    "\n",
    "current_mr_proc_manifest_df = pd.DataFrame()\n",
    "\n",
    "for visit_id in visit_ids:\n",
    "    _df = pd.DataFrame(index=mr_proc_participants_current, columns=manifest_cols)\n",
    "    for k,v in assessment_dict.items():\n",
    "        assessment_cols = [f\"{vx}_V{visit_id}\" for vx in v]\n",
    "        avail_ids = dashboard_df[~(dashboard_df[assessment_cols].isna().all(axis=1))][\"participant_id\"]\n",
    "\n",
    "        visit_label = f\"V0{visit_id}\"  \n",
    "        _df.loc[avail_ids,\"visit\"] = visit_label  \n",
    "\n",
    "        if k == \"MRI\":    \n",
    "            time_col = \"session\"    \n",
    "            visit_label = f\"ses-0{visit_id}\"\n",
    "            _df.loc[avail_ids,time_col] = visit_label\n",
    "            \n",
    "            for pid in avail_ids:\n",
    "                _df.loc[pid,\"datatype\"] = avail_datatypes\n",
    "\n",
    "    current_mr_proc_manifest_df = current_mr_proc_manifest_df.append(_df)\n",
    "\n",
    "# Remove participants with all missing visits/session\n",
    "current_mr_proc_manifest_df = current_mr_proc_manifest_df.dropna(axis=0, how=\"all\")\n",
    "current_mr_proc_manifest_df.index = current_mr_proc_manifest_df.index.str.strip()\n",
    "current_mr_proc_manifest_df.head()"
   ]
  },
  {
   "cell_type": "markdown",
   "metadata": {},
   "source": [
    "### Save update CSV"
   ]
  },
  {
   "cell_type": "code",
   "execution_count": 15,
   "metadata": {},
   "outputs": [
    {
     "name": "stdout",
     "output_type": "stream",
     "text": [
      "Saving new mr_proc manifest here: /home/nikhil/projects/Parkinsons/qpn/releases/Apr_2022/tabular/mr_proc_manifest.csv\n"
     ]
    }
   ],
   "source": [
    "save_current_mr_proc_manifest = False\n",
    "if save_current_mr_proc_manifest:\n",
    "    print(f\"Saving new mr_proc manifest here: {current_mr_proc_manifest_csv}\")\n",
    "    current_mr_proc_manifest_df = current_mr_proc_manifest_df.reset_index().rename(columns={\"index\":\"participant_id\"})\n",
    "    current_mr_proc_manifest_df.to_csv(current_mr_proc_manifest_csv,index=None)"
   ]
  }
 ],
 "metadata": {
  "interpreter": {
   "hash": "9e85faa3937191409befa9075f65ba0f49919df55e77b3fcca0bc43183dd2917"
  },
  "kernelspec": {
   "display_name": "Python 3.8.5 64-bit ('parkinsons': conda)",
   "language": "python",
   "name": "python3"
  },
  "language_info": {
   "codemirror_mode": {
    "name": "ipython",
    "version": 3
   },
   "file_extension": ".py",
   "mimetype": "text/x-python",
   "name": "python",
   "nbconvert_exporter": "python",
   "pygments_lexer": "ipython3",
   "version": "3.8.5"
  },
  "orig_nbformat": 4
 },
 "nbformat": 4,
 "nbformat_minor": 2
}
