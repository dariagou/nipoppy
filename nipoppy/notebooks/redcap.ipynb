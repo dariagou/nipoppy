{
 "cells": [
  {
   "cell_type": "markdown",
   "metadata": {},
   "source": [
    "### Notebook to prototype REDCap API calls"
   ]
  },
  {
   "cell_type": "code",

   "execution_count": null,

   "metadata": {},
   "outputs": [],
   "source": [
    "import pandas as pd\n",
    "import numpy as np\n",
    "import requests\n",
    "import json\n",
    "import nipoppy.workflow.logger as my_logger\n",
    "import seaborn as sns\n",
    "import nipoppy.workflow.utils as utils\n",
    "from itertools import product"
   ]
  },
  {
   "cell_type": "code",
   "execution_count": null,

   "metadata": {},
   "outputs": [],
   "source": [
    "def api_call(url, query, logger):\n",
    "    r = requests.post(url, data=query, verify=False)\n",
    "    http_status = str(r.status_code)\n",
    "    logger.info(f'HTTP Status: {http_status}')\n",
    "\n",
    "    if http_status == \"200\":\n",
    "        query_results = r.json()\n",
    "        query_df = pd.DataFrame(query_results)\n",
    "\n",
    "    else:\n",
    "        logger.error(f\"RedCap API request Failed with HTTP Status: {http_status}\")\n",
    "\n",
    "    return query_df"
   ]
  },
  {
   "cell_type": "code",

   "execution_count": null,

   "metadata": {},
   "outputs": [],
   "source": [
    "DATASET_ROOT = \"/home/nikhil/projects/Parkinsons/qpn/\"\n",
    "\n",
    "# Current nipoppy manifest\n",
    "release_dir = f\"{DATASET_ROOT}/releases/\"\n",

    "current_release = \"Jan_2024\"\n",
    "current_nipoppy_manifest_csv = f\"{release_dir}{current_release}/tabular/manifest.csv\"\n",
    "legacy_qpn_imaging_codes_xlsx = f\"{release_dir}{current_release}/tabular/assessments/QPN_Imaging_Codes.xlsx\"\n",
    "\n",
    "# log\n",
    "log_dir = f\"{DATASET_ROOT}/scratch/logs/\"\n",
    "log_file = f\"{log_dir}/bids_conv.log\"\n",
    "logger = my_logger.get_logger(log_file)\n",
    "\n",

    "redcap_report_csv = f\"{release_dir}{current_release}/tabular/assessments/COPN-MRIDataReport2023110_DATA_LABELS_2024-01-10_1004.csv\"\n"
   ]
  },
  {
   "cell_type": "markdown",
   "metadata": {},
   "source": [
    "### Manifest"
   ]
  },
  {
   "cell_type": "code",

   "execution_count": null,
   "metadata": {},
   "outputs": [],
   "source": [
    "visit_list = [\"MRI_v1\"] \n",
    "session_id_list = [\"01\"]\n",
    "session_list = [f\"ses-{idx}\" for idx in session_id_list]\n",
    "\n",
    "manifest_cols = [\"participant_id\", \"visit\", \"session\"]\n",
    "\n",
    "current_nipoppy_manifest_df = pd.read_csv(current_nipoppy_manifest_csv)\n",
    "current_nipoppy_manifest_df = current_nipoppy_manifest_df[current_nipoppy_manifest_df[\"visit\"].isin(visit_list)]\n",
    "current_nipoppy_manifest_df = current_nipoppy_manifest_df[current_nipoppy_manifest_df[\"session\"].isin(session_list)]\n",
    "current_nipoppy_manifest_df = current_nipoppy_manifest_df[manifest_cols]\n",
    "current_nipoppy_manifest_df[\"participant_id\"] = current_nipoppy_manifest_df[\"participant_id\"].str.upper()\n",
    "nipoppy_participants = current_nipoppy_manifest_df[\"participant_id\"].unique()\n",
    "n_participants = len(nipoppy_participants)\n",
    "logger.info(f\"n_participants: {n_participants}\")\n",
    "current_nipoppy_manifest_df.head()"
   ]
  },
  {
   "cell_type": "markdown",
   "metadata": {},
   "source": [
    "### Legacy demographics and visit dates\n",
    "- Using this while REDCap is getting updated"
   ]
  },
  {
   "cell_type": "code",

   "execution_count": null,
   "metadata": {},
   "outputs": [],
   "source": [
    "sheet_name = \"recruit_manifest\"\n",
    "usecols = [\"participant_id\", \"group\", \"sex\", \"dob\", \"visit_01\"]\n",
    "legacy_recruit_df = pd.read_excel(legacy_qpn_imaging_codes_xlsx, sheet_name=sheet_name, engine='openpyxl', usecols=usecols)\n",
    "legacy_recruit_df = legacy_recruit_df.rename(columns={\"visit_01\": \"date_MRI_v1\"})\n",
    "legacy_recruit_df[\"participant_id\"] = legacy_recruit_df[\"participant_id\"].str.upper()\n",
    "\n",
    "legacy_col_dict = {\"group\": \"legacy_group\", \"sex\":\"legacy_sex\", \"dob\":\"legacy_dob\"}\n",
    "legacy_recruit_df = legacy_recruit_df.rename(columns=legacy_col_dict)\n",
    "\n",
    "legacy_participants = legacy_recruit_df[\"participant_id\"].unique()\n",
    "n_legacy_participants = len(legacy_participants)\n",
    "logger.info(f\"n_legacy_participants: {n_legacy_participants}\")\n",
    "\n",
    "legacy_recruit_df[\"legacy_dob\"] = pd.to_datetime(legacy_recruit_df[\"legacy_dob\"], errors=\"coerce\", dayfirst=True)\n",
    "legacy_recruit_df[\"date_MRI_v1\"] = pd.to_datetime(legacy_recruit_df[\"date_MRI_v1\"], errors=\"coerce\", dayfirst=True)\n",
    "\n",
    "# calculate age at MRI_V01\n",
    "legacy_recruit_df[\"age_MRI_v1\"] = legacy_recruit_df[\"date_MRI_v1\"] - legacy_recruit_df[\"legacy_dob\"]\n",
    "legacy_recruit_df[\"age_MRI_v1\"] = np.round(legacy_recruit_df[\"age_MRI_v1\"].dt.days / 365.25, 1)\n",
    "legacy_recruit_df.head()\n"
   ]
  },
  {
   "cell_type": "code",

   "execution_count": null,
   "metadata": {},
   "outputs": [],
   "source": [
    "legacy_recruit_df.groupby(\"legacy_group\").count()"
   ]
  },
  {
   "cell_type": "markdown",
   "metadata": {},
   "source": [
    "### Redcap config\n",
    "QPN specific reports:\n",
    "['QPN participants', 'External QPN (June 2021)', 'Demographic QPN', 'QPN-Clinical questionnaire', 'QPN sex', 'Diagnosis QPN', 'MoCA-MDS-UPDRS part 3', 'Victoria - Weston Project', 'MotorAndNon-Motor', 'MoCA']"
   ]
  },
  {
   "cell_type": "code",

   "execution_count": null,
   "metadata": {},
   "outputs": [],
   "source": [
    "redcap_config_json = f\"{DATASET_ROOT}/proc/.redcap.json\"\n",
    "redcap_config = json.load(open(redcap_config_json))\n",
    "url = redcap_config[\"url\"]\n",
    "redcap_reports = list(redcap_config[\"queries\"].keys())\n",
    "n_redcap_reports = len(redcap_reports)\n",
    "logger.info(f\"redcap_reports ({n_redcap_reports}): {redcap_reports}\")"
   ]
  },
  {
   "cell_type": "code",

   "execution_count": null,
   "metadata": {},
   "outputs": [],
   "source": [
    "query_dict = {}\n",
    "redcap_participants = []\n",
    "for query_label in redcap_reports:\n",
    "    query = redcap_config[\"queries\"][query_label]\n",
    "\n",
    "    # run query\n",
    "    logger.info(f\"Running query {query_label}...\")\n",
    "    query_df = api_call(url, query, logger=logger)\n",
    "    query_df[\"record_id\"] = query_df[\"record_id\"].str.upper()\n",
    "\n",
    "    # get the list of participants\n",
    "    _participants = query_df[\"record_id\"].unique()\n",
    "    redcap_participants.extend(_participants)\n",
    "    n_participants = len(redcap_participants)\n",
    "\n",
    "    # get the list of redcap events\n",
    "    redcap_events = query_df[\"redcap_event_name\"].unique()\n",
    "    n_events = len(redcap_events)\n",
    "\n",
    "    logger.info(f\"Fetched {n_participants} participants and {n_events} event_ids: {redcap_events}\")\n",
    "\n",
    "    query_dict[query_label] = query_df.copy()\n",
    "\n",
    "redcap_participants = list(set(redcap_participants))"
   ]
  },
  {
   "cell_type": "markdown",
   "metadata": {},
   "source": [
    "### Redcap report\n",
    "This comes from Sarah with DoB"
   ]
  },
  {
   "cell_type": "code",

   "execution_count": null,
   "metadata": {},
   "outputs": [],
   "source": [
    "redcap_report_df = pd.read_csv(redcap_report_csv)\n",
    "\n",
    "demo_col_dict = {\"Record ID:\": \"participant_id\", \"Event Name\": \"redcap_event_name\", \n",
    "                 \"Enrolment Group\": \"group\", \"Date of Birth\":\"dob\", \"1. Gender (technically, it's sex)\": \"sex\", \n",
    "                 \"Date of MoCA administration\": \"moca_date\",\"Assessment completed date\":\"updrs_date\",\n",
    "                 \"Neuropsycholgical Test Date:\": \"neuropsy_date\"}\n",
    "\n",
    "redcap_report_df = redcap_report_df[list(demo_col_dict.keys())].rename(columns=demo_col_dict)\n",
    "\n",
    "redcap_report_df[\"participant_id\"] = redcap_report_df[\"participant_id\"].str.upper()\n",
    "redcap_report_df[\"sex\"] = redcap_report_df[\"sex\"].replace({\"Male/Masculin\":\"M\", \"Female/Féminin\":\"F\"})\n",
    "\n",
    "redcap_report_participants = redcap_report_df[\"participant_id\"].unique()\n",
    "n_participants = redcap_report_df[\"participant_id\"].nunique()\n",
    "n_events = redcap_report_df[\"redcap_event_name\"].unique()\n",
    "\n",
    "print(f\"Number of participants: {n_participants}\")\n",
    "print(f\"Number of events: {n_events}\")\n",
    "\n",
    "redcap_report_df.head()\n"
   ]
  },
  {
   "cell_type": "markdown",
   "metadata": {},
   "source": [
    "#### Calculate ages from dates in the redcap report"
   ]
  },
  {
   "cell_type": "code",

   "execution_count": null,
   "metadata": {},
   "outputs": [],
   "source": [
    "redcap_report_df[\"dob\"] = pd.to_datetime(redcap_report_df[\"dob\"], errors=\"coerce\", dayfirst=False)\n",
    "redcap_report_df[\"moca_date\"] = pd.to_datetime(redcap_report_df[\"moca_date\"], errors=\"coerce\", dayfirst=False)\n",
    "redcap_report_df[\"updrs_date\"] = pd.to_datetime(redcap_report_df[\"updrs_date\"], errors=\"coerce\", dayfirst=False)\n",
    "redcap_report_df[\"neuropsy_date\"] = pd.to_datetime(redcap_report_df[\"neuropsy_date\"], errors=\"coerce\", dayfirst=False)\n",
    "\n",
    "redcap_report_df[\"age_moca_v1\"] = redcap_report_df[\"moca_date\"] - redcap_report_df[\"dob\"]\n",
    "redcap_report_df[\"age_moca_v1\"] = np.round(redcap_report_df[\"age_moca_v1\"].dt.days / 365.25, 1)\n",
    "\n",
    "redcap_report_df[\"age_updrs_v1\"] = redcap_report_df[\"updrs_date\"] - redcap_report_df[\"dob\"]\n",
    "redcap_report_df[\"age_updrs_v1\"] = np.round(redcap_report_df[\"age_updrs_v1\"].dt.days / 365.25, 1)\n",
    "\n",
    "redcap_report_df[\"age_neuropsy_v1\"] = redcap_report_df[\"neuropsy_date\"] - redcap_report_df[\"dob\"]\n",
    "redcap_report_df[\"age_neuropsy_v1\"] = np.round(redcap_report_df[\"age_neuropsy_v1\"].dt.days / 365.25, 1)\n",
    "\n",
    "\n",
    "redcap_report_df.head()"
   ]
  },
  {
   "cell_type": "markdown",
   "metadata": {},
   "source": [
    "### Participant tallys"
   ]
  },
  {
   "cell_type": "code",

   "execution_count": null,
   "metadata": {},
   "outputs": [],
   "source": [
    "# redcap_participants = [p.upper() for p in redcap_participants]\n",
    "\n",
    "print(f\"Number of nipoppy participants: {len(nipoppy_participants)}\")\n",
    "print(f\"Number of legacy participants: {len(legacy_participants)}\")\n",
    "print(f\"Number of redcap participants: {len(redcap_participants)}\")\n",
    "print(f\"Number of redcap report participants: {len(redcap_report_participants)}\")\n",
    "\n",
    "\n",
    "a = set(nipoppy_participants)\n",
    "b = set(legacy_participants)\n",
    "c = set(redcap_participants)\n",
    "d = set(redcap_report_participants)\n",
    "\n",
    "nipoppy_legacy_common_participants = a.intersection(b)\n",
    "n_nipoppy_legacy_common_participants = len(nipoppy_legacy_common_participants)\n",
    "\n",
    "nipoppy_redcap_common_participants = a.intersection(c)\n",
    "n_nipoppy_redcap_common_participants = len(nipoppy_redcap_common_participants)\n",
    "\n",
    "nipoppy_redcap_report_common_participants = a.intersection(d)\n",
    "n_nipoppy_redcap_report_common_participants = len(nipoppy_redcap_report_common_participants)\n",
    "\n",
    "nipoppy_not_in_legacy_participants  = a.difference(b) # nipoppy participants not in the legacy spreadsheets\n",
    "n_nipoppy_not_in_legacy_participants = len(nipoppy_not_in_legacy_participants)\n",
    "\n",
    "nipoppy_not_in_redcap_participants  = a.difference(c) # nipoppy participants not in the redcap yet\n",
    "n_nipoppy_not_in_redcap_participants = len(nipoppy_not_in_redcap_participants)\n",
    "\n",
    "nipoppy_not_in_redcap_report_participants  = a.difference(d) # nipoppy participants not in the redcap report yet\n",
    "n_nipoppy_not_in_redcap_report_participants = len(nipoppy_not_in_redcap_report_participants)\n",
    "\n",
    "missing_nipoppy_participants = a.difference(b).difference(c).difference(d)\n",
    "n_missing_nipoppy_participants = len(missing_nipoppy_participants)\n",
    "\n",
    "new_redcap_participants  = nipoppy_redcap_common_participants.difference(d) # nipoppy-redcap participants not in the report yet\n",
    "n_new_redcap_participants = len(new_redcap_participants)\n",
    "\n",
    "print(f\"nipoppy-legacy common participants: {n_nipoppy_legacy_common_participants}\")\n",
    "print(f\"nipoppy-redcap common participants: {n_nipoppy_redcap_common_participants}\")\n",
    "print(f\"nipoppy-recdap_report common participants: {n_nipoppy_redcap_report_common_participants}\")\n",
    "\n",
    "print(f\"nipoppy-redcap participants not in the report yet (n={n_new_redcap_participants}): {new_redcap_participants}\")\n",
    "print(f\"missing_nipoppy_participants (n={n_missing_nipoppy_participants}): {missing_nipoppy_participants}\")"
   ]
  },
  {
   "cell_type": "markdown",
   "metadata": {},
   "source": [
    "### Demographics, Dx, and summary clinical scores\n",
    "- `Demographic QPN`\n",
    "    - \"study_visit_age\", \"gender\", \"yrs_education\"\n",
    "        - Note: study visit age will be different for different assessments\n",
    "- `Diagnosis QPN` does not have Dx for all participants\n",
    "- `Victoria - Weston Project` (Legend for Determined diagnosis)\n",
    "    - If score = 0, Parkinson's Disease (PD)  \n",
    "    - If score = 1, Progressive Supranuclear Palsy (PSP)  \n",
    "    - If score = 2, Multiple System Atrophy (MSA) \n",
    "    - If score = 3, Corticobasal Syndrome (CBS)  \n",
    "    - If score = 4, Dementia wi1th Lewy Bodies (DLB)  \n",
    "    - If score = 5, Frontotemporal Dementia (FTD)  \n",
    "    - If score = 6, Essential Tremor (ET)  \n",
    "    - If score = 7, REM Sleep Behaviour Disorder (RBD)\n",
    "- `MotorAndNon-Motor` \n",
    "    - summary clinical scores (updrs, moca)\n",
    "    - verify moca column with extra point i.e. `moca_extra_point`\n"
   ]
  },
  {
   "cell_type": "markdown",
   "metadata": {},
   "source": [
    "### Aggregate useful redcap data"
   ]
  },
  {
   "cell_type": "code",

   "execution_count": null,
   "metadata": {},
   "outputs": [],
   "source": [
    "index_columns = [\"record_id\", \"redcap_event_name\"]\n",
    "\n",
    "demo_cols = [\"study_visit_age\", \"gender\", \"yrs_education\"]\n",
    "demo_df = query_dict['Demographic QPN'][index_columns + demo_cols].copy()\n",
    "\n",
    "dx_cols = [\"diagnosis_determined\", \"duration_disease\"]\n",
    "dx_df = query_dict['Victoria - Weston Project'][index_columns + dx_cols]\n",
    "\n",
    "diagnosis_determined_label_map = {\n",
    "    \"0\" : \"PD\",\n",
    "    \"1\" : \"PSP\",\n",
    "    \"2\" : \"MSA\",\n",
    "    \"3\" : \"CBS\", \n",
    "    \"4\" : \"DLB\",\n",
    "    \"5\" : \"FTD\", \n",
    "    \"6\" : \"ET\",\n",
    "    \"7\" : \"RBD\"\n",
    "}\n",
    "dx_df.loc[:,\"diagnosis_determined\"] = dx_df[\"diagnosis_determined\"].astype(str).replace(diagnosis_determined_label_map).copy()\n",
    "\n",
    "updrs_cols = [\"mds_updrs_h_y\", \"updrs_score_part_1\", \"updrs_score_part_2\", \"updrs_score_part_3\", \"updrs_score_part_4\"]\n",
    "moca_cols = ['moca_result'] \n",
    "moca_subscore_cols = ['moca_result_2', 'moca_result_3', 'moca_result_4','moca_result_5', 'moca_result_6', \n",
    "                      'moca_result_7', 'moca_result_8','moca_result_9']\n",
    "\n",
    "score_cols = updrs_cols + moca_cols\n",
    "score_df = query_dict[\"Victoria - Weston Project\"][index_columns + score_cols].copy()\n",
    "\n",
    "redcap_df = pd.merge(demo_df, dx_df, on=index_columns)\n",
    "redcap_df = pd.merge(redcap_df, score_df, on=index_columns)\n",
    "\n",
    "redcap_df[\"gender\"] = redcap_df[\"gender\"].replace({\"Male/Masculin\":\"M\", \"Female/Féminin\":\"F\"})\n",
    "\n",
    "n_redcap_common_participants = len(redcap_df[\"record_id\"].unique())\n",
    "logger.info(f\"Found {n_redcap_common_participants} recdap-nipoppy common participants\")\n",
    "\n",
    "logger.info(f\"redcap events: {redcap_df['redcap_event_name'].unique()}\")\n",
    "\n",
    "redcap_df.head()"
   ]
  },
  {
   "cell_type": "markdown",
   "metadata": {},
   "source": [
    "### Merge MRI, legacy and redcap tabular data"
   ]
  },
  {
   "cell_type": "code",

   "execution_count": null,
   "metadata": {},
   "outputs": [],
   "source": [
    "# merge redcap query df\n",
    "nipoppy_redcap_df = redcap_df[(redcap_df[\"record_id\"].str.upper().isin(nipoppy_participants)) & \n",
    "                              (redcap_df[\"redcap_event_name\"].isin([\"Baseline (Arm 1: C-OPN)\"]))].copy()\n",
    "\n",
    "n_nipoppy_redcap_participants = len(nipoppy_redcap_df[\"record_id\"].unique())\n",
    "print(f\"n_nipoppy_redcap_participants: {n_nipoppy_redcap_participants}\")\n",
    "               \n",
    "nipoppy_redcap_df = nipoppy_redcap_df.replace(\"\", np.nan)\n",
    "nipoppy_redcap_df = nipoppy_redcap_df.rename(columns={\"record_id\": \"participant_id\"})\n",
    "\n",
    "nipoppy_redcap_df = pd.merge(nipoppy_redcap_df, legacy_recruit_df, on=\"participant_id\", how=\"left\")\n",
    "\n",
    "n_nipoppy_redcap_participants = len(nipoppy_redcap_df[\"participant_id\"].unique())\n",
    "print(f\"n_nipoppy_redcap_participants: {n_nipoppy_redcap_participants}\")\n",
    "\n",
    "redcap_events = nipoppy_redcap_df[\"redcap_event_name\"].unique()\n",
    "print(f\"redcap_events: {redcap_events}\")\n",
    "\n",
    "nipoppy_redcap_df.head()"
   ]
  },
  {
   "cell_type": "code",

   "execution_count": null,
   "metadata": {},
   "outputs": [],
   "source": [
    "redcap_report_df.head()"
   ]
  },
  {
   "cell_type": "markdown",
   "metadata": {},
   "source": [
    "### Merge redcap_report_df with nipoppy_redcap df"
   ]
  },
  {
   "cell_type": "code",

   "execution_count": null,
   "metadata": {},
   "outputs": [],
   "source": [
    "nipoppy_redcap_report_df = redcap_report_df[(redcap_report_df[\"participant_id\"].str.upper().isin(nipoppy_participants)) & \n",
    "                              (redcap_report_df[\"redcap_event_name\"].isin([\"Baseline (Arm 1: C-OPN)\"]))].copy()\n",
    "\n",
    "n_nipoppy_redcap_report_participants = len(nipoppy_redcap_report_df[\"participant_id\"].unique())\n",
    "print(f\"n_nipoppy_redcap_participants: {n_nipoppy_redcap_report_participants}\")\n",
    "               \n",
    "nipoppy_redcap_report_df = nipoppy_redcap_report_df.replace(\"\", np.nan)\n",
    "\n",
    "## Get all the age columns\n",
    "nipoppy_redcap_report_df_filtered = nipoppy_redcap_report_df[[\"participant_id\", \"redcap_event_name\", \"group\", \"sex\",\n",
    "                                                               \"age_moca_v1\", \"age_updrs_v1\", \"age_neuropsy_v1\"]].copy()\n",
    "\n",
    "nipoppy_redcap_filtered_df = pd.merge(nipoppy_redcap_df,nipoppy_redcap_report_df_filtered, on=[\"participant_id\",\"redcap_event_name\"], how=\"left\")\n",
    "\n",
    "n_participants = nipoppy_redcap_filtered_df[\"participant_id\"].nunique()\n",
    "print(f\"n_nipoppy_redcap_report_merged_participants: {n_participants}\")\n",
    "\n",
    "nipoppy_redcap_filtered_df.head()"
   ]
  },
  {
   "cell_type": "markdown",
   "metadata": {},
   "source": [
    "### Generate bagel(s)\n",
    "- neuro-bagel\n",
    "- dash-bagel (currenly this is a melted version of neuro-bagel)\n",
    "\n",
    "**Note**: QPN has different `visit` names for MRI, UPDRS, MoCA, Neuropsy etc.\n",
    "\n",
    "Using redcap events as evidence of multiple visits. However we are NOT assuming that two assessments (e.g. UPDRS and MoCA) are co-acquired in the same redcap event. This will be inferred using dates once available. "
   ]
  },
  {
   "cell_type": "code",

   "execution_count": null,
   "metadata": {},
   "outputs": [],
   "source": [
    "redcap_index_cols = [\"participant_id\", \"redcap_event_name\"]\n",
    "redcap_event_visit_id_dict = {\"Baseline (Arm 1: C-OPN)\": \"v1\"}\n",
    "\n",
    "demo_cols = ['group', 'study_visit_age', 'sex', 'yrs_education']\n",
    "dx_cols = ['diagnosis_determined', 'duration_disease']\n",
    "age_cols = [\"age_MRI_v1\",\"age_moca_v1\", \"age_updrs_v1\", \"age_neuropsy_v1\"]\n",
    "\n",
    "screen_cols = redcap_index_cols + demo_cols + dx_cols + age_cols\n",
    "\n",
    "screen_cols_rename_dict = {\n",
    "    \"study_visit_age\": \"age_at_screening\",\n",
    "    \"yrs_education\": \"years_education_at_screening\",\n",
    "    # \"diagnosis_determined\": \"diagnosis\",\n",
    "    \"duration_disease\": \"duration_disease_at_screening\",\n",
    "    \"group\": \"group_at_screening\"\n",
    "}\n",
    "\n",
    "screen_df = nipoppy_redcap_filtered_df[screen_cols].copy()\n",
    "screen_df = screen_df.rename(columns=screen_cols_rename_dict)\n",
    "\n",
    "# ------------------------------------------------------------------------------------ #\n",
    "# Check and add nipoppy participants which yet don't have any redcap data\n",
    "# Only populates the participant_id and bids_id columns (required by neurobagel)\n",
    "# ------------------------------------------------------------------------------------ #\n",
    "nipoppy_participants_without_pheno_data_df = pd.DataFrame()\n",
    "nipoppy_participants_without_pheno_data_df[\"participant_id\"] = list(missing_nipoppy_participants)\n",
    "# nipoppy_participants_without_pheno_data_df[\"bids_id\"] = nipoppy_participants_without_pheno_data_df[\"participant_id\"].apply(utils.participant_id_to_bids_id)\n",
    "print(f\"appending {nipoppy_participants_without_pheno_data_df.shape[0]} participants without pheno data\")\n",
    "screen_df = pd.concat([screen_df, nipoppy_participants_without_pheno_data_df], axis=0)\n",
    "\n",
    "print(f\"screen_df participants: {screen_df['participant_id'].nunique()}\")\n",
    "# ------------------------------------------------------------------------------------ #\n",
    "\n",
    "screen_df.head()"
   ]
  },
  {
   "cell_type": "markdown",
   "metadata": {},
   "source": [
    "### Pivot the screen_df to conform to tabular demographics CSV schema"
   ]
  },
  {
   "cell_type": "code",

   "execution_count": null,
   "metadata": {},
   "outputs": [],
   "source": [
    "id_vars=[\"participant_id\",\"redcap_event_name\",\"group_at_screening\",\"age_at_screening\",\"sex\",\n",
    "         \"years_education_at_screening\",\"duration_disease_at_screening\", \"diagnosis_determined\"]\n",
    "demographic_df = screen_df.melt(id_vars=id_vars, var_name=\"visit_id\", value_name=\"age\")\n",
    "\n",
    "# rename visit_id values \n",
    "demographic_df[\"visit_id\"] = demographic_df[\"visit_id\"].replace({\"age_MRI_v1\": \"MRI_v1\", \n",
    "                                                                 \"age_updrs_v1\": \"UPDRS_v1\", \n",
    "                                                                 \"age_moca_v1\": \"MOCA_v1\", \n",
    "                                                                 \"age_neuropsy_v1\": \"NEUROPSY_v1\"})\n",
    "\n",
    "demographic_df = demographic_df.sort_values([\"participant_id\", \"visit_id\"])\n",
    "demographic_df.head()"
   ]
  },
  {
   "cell_type": "code",

   "execution_count": null,
   "metadata": {},
   "outputs": [],
   "source": [
    "visit_prefix = \"UPDRS_\"\n",
    "updrs_df = nipoppy_redcap_filtered_df[redcap_index_cols + updrs_cols].copy()\n",
    "updrs_df[\"visit_id\"] = visit_prefix + updrs_df[\"redcap_event_name\"].map(redcap_event_visit_id_dict)\n",
    "# updrs_df[\"visit\"] =  + updrs_df[\"visit_id\"]\n",
    "\n",
    "updrs_df.head()"
   ]
  },
  {
   "cell_type": "code",

   "execution_count": null,
   "metadata": {},
   "outputs": [],
   "source": [
    "visit_prefix = \"MOCA_\"\n",
    "moca_df = nipoppy_redcap_filtered_df[redcap_index_cols + moca_cols].copy()\n",
    "moca_df[\"visit_id\"] = visit_prefix + moca_df[\"redcap_event_name\"].map(redcap_event_visit_id_dict)\n",
    "# moca_df[\"visit\"] = visit_prefix + moca_df[\"visit_id\"]\n",
    "\n",
    "moca_df.head()"
   ]
  },
  {
   "cell_type": "code",

   "execution_count": null,
   "metadata": {},
   "outputs": [],
   "source": [
    "pheno_df = pd.concat([updrs_df, moca_df], axis=0)\n",
    "\n",
    "# To be added later\n",
    "pheno_df[\"medication_status\"] = np.nan\n",
    "\n",
    "reordered_cols = [\"participant_id\",\"redcap_event_name\",\"visit_id\",\"medication_status\"] + updrs_cols + moca_cols\n",
    "pheno_df = pheno_df[reordered_cols].copy()\n",
    "\n",
    "pheno_df = pheno_df.sort_values([\"participant_id\", \"visit_id\"])\n",
    "\n",
    "pheno_df.head()"
   ]
  },
  {
   "cell_type": "code",

   "execution_count": null,
   "metadata": {},
   "outputs": [],
   "source": [
    "pheno_df[pheno_df[\"participant_id\"]==\"MNI0056\"]"
   ]
  },
  {
   "cell_type": "markdown",
   "metadata": {},
   "source": [
    "### Generate availability \n",
    "Status options: 1) \"Validated\" 2) \"Missing\" 3) \"Not collected\" "
   ]
  },
  {
   "cell_type": "code",

   "execution_count": null,
   "metadata": {},
   "outputs": [],
   "source": [
    "bagel_df = pd.merge(demographic_df, pheno_df, on=[\"participant_id\",\"redcap_event_name\",\"visit_id\"], how=\"left\") \n",
    "\n",
    "bagel_participants = bagel_df[\"participant_id\"].unique()\n",
    "logger.info(f\"n_bagel_participants: {len(bagel_participants)}\")\n",
    "\n",
    "bagel_status_cols = []\n",
    "for col in updrs_cols + moca_cols:\n",
    "    bagel_df[f\"{col}_status\"] = ~bagel_df[col].isna()\n",
    "    bagel_status_cols.append(f\"{col}_status\")   \n",
    "    n_available_participants = np.sum(bagel_df[f\"{col}_status\"])\n",
    "    logger.info(f\"{col}, n_available_participants: {n_available_participants}\")\n",
    "\n",
    "logger.info(f\"bagel df shape: {bagel_df.shape}\")\n",
    "bagel_df.head()"
   ]
  },
  {
   "cell_type": "markdown",
   "metadata": {},
   "source": [
    "### Status only bagel (no clinical info for public digest/dashboard)"
   ]
  },
  {
   "cell_type": "code",

   "execution_count": null,
   "metadata": {},
   "outputs": [],
   "source": [
    "dash_bagel_df_cols = list(demographic_df.columns) + bagel_status_cols\n",
    "dash_bagel_df = bagel_df[dash_bagel_df_cols].copy()"
   ]
  },
  {
   "cell_type": "code",

   "execution_count": null,
   "metadata": {},
   "outputs": [],
   "source": [
    "dash_bagel_df[dash_bagel_df[\"participant_id\"]==\"MNI0056\"]"
   ]
  },
  {
   "cell_type": "markdown",
   "metadata": {},
   "source": [
    "### dash bagel (melt)\n"
   ]
  },
  {
   "cell_type": "code",

   "execution_count": null,
   "metadata": {},
   "outputs": [],
   "source": [
    "# Dashboard variables\n",
    "DASH_INDEX_COLUMNS = [\"participant_id\", \"visit_id\"]\n",
    "DASH_NAME_COL = \"assessment_name\"\n",
    "DASH_VAL_COL = \"assessment_score\"\n",
    "\n",
    "dash_df = dash_bagel_df.melt(id_vars=DASH_INDEX_COLUMNS, var_name=DASH_NAME_COL, value_name=DASH_VAL_COL)\n",
    "dash_df = dash_df.rename(columns={\"visit_id\": \"session\"})\n"
   ]
  },
  {
   "cell_type": "markdown",
   "metadata": {},
   "source": [
    "### save phenotypic data\n",
    "- Saves `demographics.csv` --> data collected at screening i.e. age, sex, group, education etc. \n",
    "- Saves `assessments.csv` i.e. collated data from clinical assessments i.e. UPDRS, MoCA"
   ]
  },
  {
   "cell_type": "code",

   "execution_count": null,
   "metadata": {},
   "outputs": [],
   "source": [
    "save_pheno = False\n",
    "\n",
    "demograph_csv_path = f\"{release_dir}{current_release}/tabular/demographics/demographics.csv\"\n",
    "assessment_csv_path = f\"{release_dir}{current_release}/tabular/assessments/assessments.csv\"\n",
    "\n",
    "print(f\"demographic participants: {demographic_df['participant_id'].nunique()}\")\n",
    "print(f\"pheno participants: {pheno_df['participant_id'].nunique()}\")\n",
    "if save_pheno:\n",
    "    print(f\"Saving data to {demograph_csv_path} and {assessment_csv_path}\")\n",
    "    demographic_df.to_csv(demograph_csv_path, index=False)\n",
    "    pheno_df.to_csv(assessment_csv_path, index=False)\n",
    "    "
   ]
  },
  {
   "cell_type": "markdown",
   "metadata": {},
   "source": [
    "### save bagels"
   ]
  },
  {
   "cell_type": "code",

   "execution_count": null,
   "metadata": {},
   "outputs": [],
   "source": [
    "save_bagels = False\n",
    "\n",
    "bagel_csv_path = f\"{release_dir}{current_release}/tabular/bagels/bagel.csv\"\n",
    "bagel_tsv_path = f\"{release_dir}{current_release}/tabular/bagels/bagel.tsv\"\n",
    "dash_csv_path = f\"{release_dir}{current_release}/tabular/bagels/dash_bagel.csv\"\n",
    "public_digest_csv_path = f\"../digest/qpn_tabular_availability_digest.csv\"\n",
    "\n",
    "if save_bagels:\n",
    "    bagel_df.to_csv(bagel_csv_path, index=False)\n",
    "    bagel_df.to_csv(bagel_tsv_path, index=False, sep=\"\\t\")\n",
    "    dash_df.to_csv(dash_csv_path, index=False)\n",
    "    dash_df.to_csv(public_digest_csv_path, index=False)\n",
    "    print(f\"Bagel saved to {dash_csv_path}\")"
   ]
  },
  {
   "cell_type": "code",

   "execution_count": null,
   "metadata": {},
   "outputs": [],
   "source": []
  }
 ],
 "metadata": {
  "kernelspec": {
   "display_name": "nipoppy",
   "language": "python",
   "name": "python3"
  },
  "language_info": {
   "codemirror_mode": {
    "name": "ipython",
    "version": 3
   },
   "file_extension": ".py",
   "mimetype": "text/x-python",
   "name": "python",
   "nbconvert_exporter": "python",
   "pygments_lexer": "ipython3",
   "version": "3.10.12"
  },
  "orig_nbformat": 4
 },
 "nbformat": 4,
 "nbformat_minor": 2
}
