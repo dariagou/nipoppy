{
 "cells": [
  {
   "cell_type": "markdown",
   "metadata": {},
   "source": [
    "### Notebook to check the dates of the MRI scans\n",
    "\n",
    "#### Date Sources\n",
    "1. Suivi sheet \n",
    "2. Testing sheet\n",
    "3. DICOM file \n",
    "4. DICOM header"
   ]
  },
  {
   "cell_type": "code",
   "execution_count": null,
   "metadata": {},
   "outputs": [],
   "source": [
    "import pandas as pd\n",
    "import numpy as np\n",
    "import seaborn as sns"
   ]
  },
  {
   "cell_type": "code",
   "execution_count": null,
   "metadata": {},
   "outputs": [],
   "source": [
    "dataset_dir  = \"/home/nikhil/projects/Parkinsons/qpn/\"\n",
    "\n",
    "current_release = \"Jan_2024\"\n",
    "releases_dir = f\"{dataset_dir}releases/{current_release}/\"\n",
    "\n",
    "\n",
    "# Current mr_proc manifest\n",
    "current_manifest_csv = f\"{releases_dir}/tabular/manifest.csv\"\n",
    "\n",
    "# Current recruit manifest\n",
    "current_recruit_manifest_xls = f\"{releases_dir}/tabular/demographics/Suivi_RPQ.xlsx\"\n",
    "\n",
    "# Doughnut path\n",
    "doughnut_path = f\"{dataset_dir}/scratch/raw_dicom/doughnut-20230919_1433.csv\"\n",
    "\n",
    "# Date check CSV path\n",
    "date_check_csv = f\"{dataset_dir}/scratch/mri_dates_sanity_check.csv\""
   ]
  },
  {
   "cell_type": "markdown",
   "metadata": {},
   "source": [
    "### Read current manifest"
   ]
  },
  {
   "cell_type": "code",
   "execution_count": null,
   "metadata": {},
   "outputs": [],
   "source": [
    "manifest_df= pd.read_csv(current_manifest_csv)\n",
    "\n",
    "manifest_participants = manifest_df[\"participant_id\"].unique()\n",
    "n_manifest_participants = len(manifest_participants)\n",
    "print(f\"Number of participants in manifest: {n_manifest_participants}\")\n",
    "\n",
    "sessions = manifest_df[\"session\"].unique()\n",
    "print(f\"sessions: {sessions}\")\n",
    "\n",
    "per_session_counts = manifest_df.value_counts(\"session\")\n",
    "print(f\"per_session_counts: {per_session_counts}\")\n",
    "\n",
    "manifest_df.head()"
   ]
  },
  {
   "cell_type": "markdown",
   "metadata": {},
   "source": [
    "### Read doughnut data"
   ]
  },
  {
   "cell_type": "code",
   "execution_count": null,
   "metadata": {},
   "outputs": [],
   "source": [
    "doughnut_df = pd.read_csv(doughnut_path)\n",
    "\n",
    "manifest_participants = doughnut_df[\"participant_id\"].unique()\n",
    "n_manifest_participants = len(manifest_participants)\n",
    "print(f\"Number of participants in manifest: {n_manifest_participants}\")\n",
    "\n",
    "sessions = doughnut_df[\"session\"].unique()\n",
    "print(f\"sessions: {sessions}\")\n",
    "\n",
    "per_session_counts = doughnut_df.value_counts(\"session\")\n",
    "print(f\"per_session_counts: {per_session_counts}\")\n",
    "\n",
    "doughnut_df.head()"
   ]
  },
  {
   "cell_type": "markdown",
   "metadata": {},
   "source": [
    "### Read Suivi_RPQ.xlsx dates for MRI"
   ]
  },
  {
   "cell_type": "code",
   "execution_count": null,
   "metadata": {},
   "outputs": [],
   "source": [
    "col_range = \"A:N\"\n",
    "\n",
    "col_rename_dict = {\"Unnamed: 0\":\"participant_id\",\n",
    "                \"IRM01\\n(J-M-A)\":\"IRM01_date\", \"#IRM 1\\n PD\":\"IRM01_PD\", \"#IRM 1\\n CTRL\":\"IRM01_CTRL\", \"# IRM 1\\n RBD\":\"IRM01_RBD\",\n",
    "                \"IRM 2 \\n(J-M-A)\":\"IRM02_date\", \"#IRM 2\\n PD\":\"IRM02_PD\", \"#IRM 2\\n CTRL\":\"IRM02_CTRL\", \"# IRM 2\\n RBD\":\"IRM02_RBD\"}\n",
    "\n",
    "useful_cols = col_rename_dict.values()\n",
    "\n",
    "suivi_df = pd.read_excel(current_recruit_manifest_xls,sheet_name=\"En cours\", engine='openpyxl', usecols=col_range)\n",
    "suivi_df = suivi_df.rename(columns=col_rename_dict)[useful_cols].copy()\n",
    "\n",
    "# remove the row with tally\n",
    "suivi_df = suivi_df.drop([0])\n",
    "\n",
    "# remove rows without participant_id\n",
    "suivi_df = suivi_df.dropna(axis=0, subset=[\"participant_id\"])\n",
    "suivi_df = suivi_df[~suivi_df[\"participant_id\"].astype(str).isin([\"0\"])] \n",
    "\n",
    "# remove subjects without imaging data\n",
    "suivi_df = suivi_df[(suivi_df[\"IRM01_PD\"] == 1) | (suivi_df[\"IRM01_CTRL\"] == 1) | (suivi_df[\"IRM01_RBD\"] == 1) | \n",
    "                    (suivi_df[\"IRM02_PD\"] == 1) | (suivi_df[\"IRM02_CTRL\"] == 1) | (suivi_df[\"IRM02_RBD\"] == 1)]\n",
    "\n",
    "\n",
    "# fix participant_id formatting issues\n",
    "# Some rows have Dx in participant_id and one participant with two IDs with \"=\"\n",
    "possible_delimiters = [\" \", \"(\", \"=\"]\n",
    "for delim in possible_delimiters:\n",
    "    suivi_df[\"participant_id\"] = suivi_df[\"participant_id\"].str.split(pat=delim, n=1, expand=True)[0]\n",
    "\n",
    "# nipoppy_participants_current\n",
    "nipoppy_participants_current = suivi_df[\"participant_id\"].dropna().unique()\n",
    "\n",
    "suivi_df.head()"
   ]
  },
  {
   "cell_type": "code",
   "execution_count": null,
   "metadata": {},
   "outputs": [],
   "source": [
    "suivi_df[suivi_df[\"participant_id\"].isin([\"MNI0224\"])]"
   ]
  },
  {
   "cell_type": "code",
   "execution_count": null,
   "metadata": {},
   "outputs": [],
   "source": [
    "# set date columns to datetime\n",
    "# has mixed types, but auto formatting + coerce works fine here\n",
    "suivi_df[\"IRM01_date\"] = suivi_df[\"IRM01_date\"].replace(0, np.nan)\n",
    "suivi_df[\"IRM02_date\"] = suivi_df[\"IRM02_date\"].replace(0, np.nan)\n",
    "\n",
    "suivi_df[\"IRM01_date\"] = pd.to_datetime(suivi_df[\"IRM01_date\"], errors=\"coerce\")\n",
    "suivi_df[\"IRM02_date\"] = pd.to_datetime(suivi_df[\"IRM02_date\"], errors=\"coerce\")\n",
    "\n",
    "\n",
    "# Check visit orders\n",
    "suivi_df[\"visit_interval (V2-V1) in days\"] = suivi_df[\"IRM02_date\"] - suivi_df[\"IRM01_date\"]\n",
    "suivi_df[\"visit_interval (V2-V1) in days\"] = suivi_df[\"visit_interval (V2-V1) in days\"].dt.days\n",
    "visits_wit_wrong_order_df = suivi_df[suivi_df[\"visit_interval (V2-V1) in days\"] < 0]\n",
    "print(f\"Participants with wrong visit order: ({len(visits_wit_wrong_order_df)}) :{visits_wit_wrong_order_df['participant_id'].values}\")\n",
    "\n",
    "\n",
    "suivi_df.head()"
   ]
  },
  {
   "cell_type": "markdown",
   "metadata": {},
   "source": [
    "### Parse and merge dates and visits"
   ]
  },
  {
   "cell_type": "code",
   "execution_count": null,
   "metadata": {},
   "outputs": [],
   "source": [
    "suivi_MRI_date_df = suivi_df[['participant_id', 'IRM01_date', 'IRM02_date']].copy()\n",
    "\n",
    "suivi_MRI_date_df = suivi_MRI_date_df.melt(id_vars=['participant_id'], \n",
    "                                   value_vars=['IRM01_date', 'IRM02_date'], \n",
    "                                   var_name='visit_id', value_name='suivi_MRI_date')\n",
    "\n",
    "suivi_MRI_date_df = suivi_MRI_date_df.replace({\"visit_id\": {\"IRM01_date\": \"MRI_v1\", \"IRM02_date\": \"MRI_v2\"}})\n",
    "suivi_MRI_date_df.head()"
   ]
  },
  {
   "cell_type": "code",
   "execution_count": null,
   "metadata": {},
   "outputs": [],
   "source": [
    "doughnut_date_df = doughnut_df[[\"participant_id\", \"session\", \"participant_dicom_dir\"]].copy()\n",
    "doughnut_date_df[\"visit_id\"] = doughnut_date_df[\"participant_dicom_dir\"].str.split(\"_\", n=3, expand=True)[2]\n",
    "doughnut_date_df[\"dicom_date\"] = doughnut_date_df[\"participant_dicom_dir\"].str.split(\"_\", n=5, expand=True)[4]\n",
    "doughnut_date_df[\"dicom_date\"] = pd.to_datetime(doughnut_date_df[\"dicom_date\"], errors=\"coerce\", yearfirst=True)\n",
    "\n",
    "participants_with_missing_dicom_visit_tag = doughnut_date_df[doughnut_date_df[\"visit_id\"].isna()][\"participant_id\"].unique()\n",
    "print(f\"participants_with_missing_dicom_visit_tag: {participants_with_missing_dicom_visit_tag}\")\n",
    "doughnut_date_df.head()"
   ]
  },
  {
   "cell_type": "markdown",
   "metadata": {},
   "source": [
    "### Assign doughnut visit tag based on session_id"
   ]
  },
  {
   "cell_type": "code",
   "execution_count": null,
   "metadata": {},
   "outputs": [],
   "source": [
    "doughnut_date_df.loc[doughnut_date_df[\"visit_id\"].isna(), \"visit_id\"] = \"MRI\" + doughnut_date_df[\"session\"].str.split(\"-\", n=2, expand=True)[1]\n",
    "\n",
    "participants_with_missing_dicom_visit_tag = doughnut_date_df[doughnut_date_df[\"visit_id\"].isna()][\"participant_id\"].unique()\n",
    "print(f\"participants_with_missing_dicom_visit_tag: {participants_with_missing_dicom_visit_tag}\")\n",
    "doughnut_date_df[\"visit_id\"] = doughnut_date_df[\"visit_id\"].replace({\"MRI01\": \"MRI_v1\", \"MRI02\":\"MRI_v2\", \"MRI03\": \"MRI_v3\"})\n",
    "doughnut_date_df.head()"
   ]
  },
  {
   "cell_type": "markdown",
   "metadata": {},
   "source": [
    "### Merge"
   ]
  },
  {
   "cell_type": "code",
   "execution_count": null,
   "metadata": {},
   "outputs": [],
   "source": [
    "date_sanity_check_df = pd.merge(doughnut_date_df, suivi_MRI_date_df, on=[\"participant_id\", \"visit_id\"], how=\"left\")\n",
    "reorder_cols = [\"participant_id\", \"visit_id\", \"session\", \"participant_dicom_dir\", \"suivi_MRI_date\", \"dicom_date\"]\n",
    "date_sanity_check_df = date_sanity_check_df[reorder_cols]\n",
    "date_sanity_check_df[\"date_match\"] = date_sanity_check_df[\"suivi_MRI_date\"] == date_sanity_check_df[\"dicom_date\"]\n",
    "date_sanity_check_df[\"date_diff\"] = date_sanity_check_df[\"suivi_MRI_date\"] - date_sanity_check_df[\"dicom_date\"]\n",
    "\n",
    "# Don't count unavailable dates as mismatches \n",
    "date_sanity_check_df.loc[date_sanity_check_df[\"date_diff\"].isna(), \"date_match\"] = np.nan\n",
    "\n",
    "date_sanity_check_df\n"
   ]
  },
  {
   "cell_type": "code",
   "execution_count": null,
   "metadata": {},
   "outputs": [],
   "source": [
    "date_sanity_check_df.groupby([\"visit_id\",\"session\",\"date_match\"])[\"participant_id\"].count()"
   ]
  },
  {
   "cell_type": "code",
   "execution_count": null,
   "metadata": {},
   "outputs": [],
   "source": [
    "date_sanity_check_df[date_sanity_check_df[\"date_match\"] == False]"
   ]
  },
  {
   "cell_type": "markdown",
   "metadata": {},
   "source": [
    "### Plot mismatched date distributions"
   ]
  },
  {
   "cell_type": "code",
   "execution_count": null,
   "metadata": {},
   "outputs": [],
   "source": [
    "plot_df = date_sanity_check_df.copy()\n",
    "plot_df = plot_df[plot_df[\"date_match\"] == False]\n",
    "plot_df[\"difference in days\"] = plot_df[\"date_diff\"].dt.days\n",
    "\n",
    "sns.set(font_scale=1)\n",
    "with sns.axes_style(\"whitegrid\"):\n",
    "    g = sns.displot(hue=\"visit_id\", x=\"difference in days\", data=plot_df, aspect=1.5, height=5, kde=True, palette=\"Set1\")"
   ]
  },
  {
   "cell_type": "code",
   "execution_count": null,
   "metadata": {},
   "outputs": [],
   "source": [
    "save_date_check_csv = True\n",
    "if save_date_check_csv:\n",
    "    print(f\"Saving save_date_check_csv here: {date_check_csv}\")\n",
    "    date_sanity_check_df.to_csv(date_check_csv,index=None)"
   ]
  },
  {
   "cell_type": "code",
   "execution_count": null,
   "metadata": {},
   "outputs": [],
   "source": []
  }
 ],
 "metadata": {
  "kernelspec": {
   "display_name": "nipoppy",
   "language": "python",
   "name": "python3"
  },
  "language_info": {
   "codemirror_mode": {
    "name": "ipython",
    "version": 3
   },
   "file_extension": ".py",
   "mimetype": "text/x-python",
   "name": "python",
   "nbconvert_exporter": "python",
   "pygments_lexer": "ipython3",
   "version": "3.10.12"
  },
  "orig_nbformat": 4
 },
 "nbformat": 4,
 "nbformat_minor": 2
}
