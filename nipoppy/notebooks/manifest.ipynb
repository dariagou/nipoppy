{
 "cells": [
  {
   "attachments": {},
   "cell_type": "markdown",
   "metadata": {},
   "source": [
    "## Code to generate manifest.csv\n",
    "- Based on this [schema](https://www.neurobagel.org/documentation/mr_proc/configs/)\n",
    "\n",
    "### QPN naming convention\n",
    "- `visit`: timepoint of **ANY** clinical (i.e. UPDRS, MoCA, Neuropsy) data collected \n",
    "    - e.g. V01, V02 etc. \n",
    "- `session`: timepoint of MRI collection\n",
    "    - e.g. ses-01, ses-02 etc.\n",
    "- `event`: timepoint relative to a consensus baseline (used for inter-modality i.e. MRI vs clinical data harmonization) \n",
    "    - e.g. baseline, m06, m12 etc. "
   ]
  },
  {
   "cell_type": "code",
   "execution_count": null,
   "metadata": {},
   "outputs": [],
   "source": [
    "import pandas as pd\n",
    "import numpy as np"
   ]
  },
  {
   "cell_type": "markdown",
   "metadata": {},
   "source": [
    "### Paths"
   ]
  },
  {
   "cell_type": "code",
   "execution_count": null,
   "metadata": {},
   "outputs": [],
   "source": [
    "releases_dir = \"/home/nikhil/projects/Parkinsons/qpn/releases/\"\n",
    "\n",
    "previous_release = \"Sept_2023\"\n",
    "current_release = \"Jan_2024\"\n",
    "\n",
    "# Previous mr_proc manifest\n",
    "previous_manifest_csv = f\"{releases_dir}{previous_release}/tabular/manifest.csv\"\n",
    "\n",
    "# Current mr_proc manifest\n",
    "current_manifest_csv = f\"{releases_dir}{current_release}/tabular/manifest.csv\"\n",
    "\n",
    "# Current recruit manifest\n",
    "current_recruit_manifest_xls = f\"{releases_dir}{current_release}/tabular/demographics/Suivi_RPQ.xlsx\""
   ]
  },
  {
   "cell_type": "markdown",
   "metadata": {},
   "source": [
    "### Read recruitment manifest from previous release"
   ]
  },
  {
   "cell_type": "code",
   "execution_count": null,
   "metadata": {},
   "outputs": [],
   "source": [
    "previous_recruit_manifest_df = pd.read_csv(previous_manifest_csv)\n",
    "previous_recruit_manifest_df[\"participant_id\"] = previous_recruit_manifest_df[\"participant_id\"].str.strip()\n",
    "nipoppy_participants_previous = previous_recruit_manifest_df[\"participant_id\"].dropna().unique()\n",
    "n_nipoppy_participants_previous = len(nipoppy_participants_previous)\n",
    "\n",
    "print(f\"number of participants from previous mr_proc release: {n_nipoppy_participants_previous}\")\n",
    "previous_recruit_manifest_df.head()"
   ]
  },
  {
   "attachments": {},
   "cell_type": "markdown",
   "metadata": {},
   "source": [
    "### Read latest recruitment manifest"
   ]
  },
  {
   "cell_type": "code",
   "execution_count": null,
   "metadata": {},
   "outputs": [],
   "source": [
    "col_range = \"A:N\"\n",
    "\n",
    "col_rename_dict = {\"Unnamed: 0\":\"participant_id\",\n",
    "                \"IRM01\\n(J-M-A)\":\"IRM01_date\", \"#IRM 1\\n PD\":\"IRM01_PD\", \"#IRM 1\\n CTRL\":\"IRM01_CTRL\", \"# IRM 1\\n RBD\":\"IRM01_RBD\",\n",
    "                \"IRM 2 \\n(J-M-A)\":\"IRM02_date\", \"#IRM 2\\n PD\":\"IRM02_PD\", \"#IRM 2\\n CTRL\":\"IRM02_CTRL\", \"# IRM 2\\n RBD\":\"IRM02_RBD\"}\n",
    "\n",
    "useful_cols = col_rename_dict.values()\n",
    "\n",
    "suivi_df = pd.read_excel(current_recruit_manifest_xls,sheet_name=\"En cours\", engine='openpyxl', usecols=col_range)\n",
    "suivi_df = suivi_df.rename(columns=col_rename_dict)[useful_cols].copy()\n",
    "\n",
    "# remove the row with tally\n",
    "suivi_df = suivi_df.drop([0])\n",
    "\n",
    "# remove rows without participant_id\n",
    "suivi_df = suivi_df.dropna(axis=0, subset=[\"participant_id\"])\n",
    "suivi_df = suivi_df[~suivi_df[\"participant_id\"].astype(str).isin([\"0\"])] \n",
    "\n",
    "# remove subjects without imaging data\n",
    "suivi_df = suivi_df[(suivi_df[\"IRM01_PD\"] == 1) | (suivi_df[\"IRM01_CTRL\"] == 1) | (suivi_df[\"IRM01_RBD\"] == 1) | \n",
    "                    (suivi_df[\"IRM02_PD\"] == 1) | (suivi_df[\"IRM02_CTRL\"] == 1) | (suivi_df[\"IRM02_RBD\"] == 1)]\n",
    "\n",
    "\n",
    "# fix participant_id formatting issues\n",
    "# Some rows have Dx in participant_id and one participant with two IDs with \"=\"\n",
    "possible_delimiters = [\" \", \"(\", \"=\"]\n",
    "for delim in possible_delimiters:\n",
    "    suivi_df[\"participant_id\"] = suivi_df[\"participant_id\"].str.split(pat=delim, n=1, expand=True)[0]\n",
    "\n",
    "# nipoppy_participants_current\n",
    "nipoppy_participants_current = suivi_df[\"participant_id\"].dropna().unique()\n",
    "\n",
    "suivi_df"
   ]
  },
  {
   "cell_type": "markdown",
   "metadata": {},
   "source": [
    "### Set date columns and check visit order"
   ]
  },
  {
   "cell_type": "code",
   "execution_count": null,
   "metadata": {},
   "outputs": [],
   "source": [
    "# set date columns to datetime\n",
    "# has mixed types, but auto formatting + coerce works fine here\n",
    "\n",
    "# explicitely set 0 to nan to avoid origin issues (date: 0 is 1970-01-01)\n",
    "suivi_df[\"IRM01_date\"] = suivi_df[\"IRM01_date\"].replace(0, np.nan)\n",
    "suivi_df[\"IRM02_date\"] = suivi_df[\"IRM02_date\"].replace(0, np.nan)\n",
    "\n",
    "suivi_df[\"IRM01_date\"] = pd.to_datetime(suivi_df[\"IRM01_date\"], errors=\"coerce\")\n",
    "suivi_df[\"IRM02_date\"] = pd.to_datetime(suivi_df[\"IRM02_date\"], errors=\"coerce\")\n",
    "\n",
    "# Check visit orders\n",
    "suivi_df[\"visit_interval (V2-V1) in days\"] = suivi_df[\"IRM02_date\"] - suivi_df[\"IRM01_date\"]\n",
    "suivi_df[\"visit_interval (V2-V1) in days\"] = suivi_df[\"visit_interval (V2-V1) in days\"].dt.days\n",
    "visits_wit_wrong_order_df = suivi_df[suivi_df[\"visit_interval (V2-V1) in days\"] < 0]\n",
    "print(f\"Participants with wrong visit order: ({len(visits_wit_wrong_order_df)}) :{visits_wit_wrong_order_df['participant_id'].values}\")\n"
   ]
  },
  {
   "cell_type": "markdown",
   "metadata": {},
   "source": [
    "### Get new participants per session\n",
    "This is based on a valid date for MRI visit"
   ]
  },
  {
   "cell_type": "code",
   "execution_count": null,
   "metadata": {},
   "outputs": [],
   "source": [
    "total_partcipants_additions = list(set(nipoppy_participants_current) - set(nipoppy_participants_previous))\n",
    "print(f\"number of new participants: {len(total_partcipants_additions)}\")\n",
    "\n",
    "MRI_v1_participants = suivi_df[(suivi_df[\"IRM01_PD\"] == 1) | (suivi_df[\"IRM01_CTRL\"] == 1) | (suivi_df[\"IRM01_RBD\"] == 1)][\"participant_id\"].dropna().unique()\n",
    "MRI_v2_participants = suivi_df[(suivi_df[\"IRM02_PD\"] == 1) | (suivi_df[\"IRM02_CTRL\"] == 1) | (suivi_df[\"IRM02_RBD\"] == 1)][\"participant_id\"].dropna().unique()\n",
    "\n",
    "visit_participant_dict = {\"MRI_v1\": MRI_v1_participants, \"MRI_v2\": MRI_v2_participants}\n",
    "\n",
    "print(f\"MRI_v1_participants: {len(MRI_v1_participants)}, MRI_v2_participants: {len(MRI_v2_participants)}\")"
   ]
  },
  {
   "attachments": {},
   "cell_type": "markdown",
   "metadata": {},
   "source": [
    "### Generate current_manifest_df\n",
    "\n",
    "- Populate manifest with available clinical visits / MRI sessions\n",
    "- Datatypes: Assuming QPN has all 4 BIDS datatypes: [\"anat\",\"dwi\",\"fmap\",\"func\"]\n",
    "\n",
    "- Sample `manifest.csv`\n",
    "\n",
    "| participant_id | participant_dicom_dir | visit | session | datatype                     | bids_id |\n",
    "|----------------|-----------------------|-------|---------|------------------------------|---------|\n",
    "| 001            | MyStudy_001_V2021      | V01   | ses-01  | [\"anat\",\"dwi\",\"fmap\",\"func\"] | sub-001 |\n",
    "| 001            | MyStudy_001_V2022      | V02   | ses-02  | [\"anat\"]                     | sub-001 |\n",
    "| 002            | MyStudy_002_V2021      | V01   | ses-01  | [\"anat\",\"dwi\"]               | sub-002 |\n",
    "| 002            | MyStudy_002_V2024      | V03   | ses-03  | [\"anat\",\"dwi\"]               | sub-002 |"
   ]
  },
  {
   "cell_type": "code",
   "execution_count": null,
   "metadata": {},
   "outputs": [],
   "source": [
    "visit_labels = visit_participant_dict.keys()\n",
    "visit_session_dict = {\"MRI_v1\": \"ses-01\", \"MRI_v2\": \"ses-02\"}\n",
    "\n",
    "manifest_cols = [\"visit\",\"session\",\"datatype\"]\n",
    "avail_datatypes = \"['anat','dwi','fmap','func']\"\n",
    "\n",
    "current_manifest_df = pd.DataFrame()\n",
    "\n",
    "for visit_label in visit_labels:\n",
    "    visit_participant_ids = visit_participant_dict[visit_label]\n",
    "    print(f\"visit_id: {visit_label}, n_participants: {len(visit_participant_ids)}\")\n",
    "\n",
    "    _df = pd.DataFrame(index=visit_participant_ids, columns=manifest_cols)\n",
    "\n",
    "    session = visit_session_dict[visit_label]\n",
    "\n",
    "    _df.loc[visit_participant_ids,\"visit\"] = visit_label\n",
    "    _df.loc[visit_participant_ids,\"session\"] = session\n",
    "    _df.loc[visit_participant_ids,\"datatype\"] = avail_datatypes\n",
    "    \n",
    "    current_manifest_df = pd.concat([current_manifest_df, _df], axis=0)\n",
    "\n",
    "current_manifest_df"
   ]
  },
  {
   "cell_type": "markdown",
   "metadata": {},
   "source": [
    "### Save update CSV"
   ]
  },
  {
   "cell_type": "code",
   "execution_count": null,
   "metadata": {},
   "outputs": [],
   "source": [
    "save_current_manifest = False\n",
    "if save_current_manifest:\n",
    "    print(f\"Saving new nipoppy manifest here: {current_manifest_csv}\")\n",
    "    current_manifest_df = current_manifest_df.reset_index().rename(columns={\"index\":\"participant_id\"})\n",
    "    current_manifest_df.to_csv(current_manifest_csv,index=None)"
   ]
  },
  {
   "cell_type": "code",
   "execution_count": null,
   "metadata": {},
   "outputs": [],
   "source": []
  }
 ],
 "metadata": {
  "interpreter": {
   "hash": "9e85faa3937191409befa9075f65ba0f49919df55e77b3fcca0bc43183dd2917"
  },
  "kernelspec": {
   "display_name": "Python 3.8.5 64-bit ('parkinsons': conda)",
   "language": "python",
   "name": "python3"
  },
  "language_info": {
   "codemirror_mode": {
    "name": "ipython",
    "version": 3
   },
   "file_extension": ".py",
   "mimetype": "text/x-python",
   "name": "python",
   "nbconvert_exporter": "python",
   "pygments_lexer": "ipython3",
   "version": "3.7.0"
  },
  "orig_nbformat": 4
 },
 "nbformat": 4,
 "nbformat_minor": 2
}
