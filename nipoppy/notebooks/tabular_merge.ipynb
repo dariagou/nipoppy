{
 "cells": [
  {
   "cell_type": "code",
   "execution_count": null,
   "metadata": {},
   "outputs": [],
   "source": [
    "import pandas as pd\n",
    "import numpy as np\n",
    "import requests\n",
    "import json\n",
    "import time\n",
    "import pickle\n",
    "import seaborn as sns"
   ]
  },
  {
   "cell_type": "markdown",
   "metadata": {},
   "source": [
    "### API call for redcap"
   ]
  },
  {
   "cell_type": "code",
   "execution_count": null,
   "metadata": {},
   "outputs": [],
   "source": [
    "def api_call(url, query, logger=None):\n",
    "    \"\"\" helper function to make API calls to RedCap\n",
    "    \"\"\"\n",
    "    r = requests.post(url, data=query, verify=False)\n",
    "    http_status = str(r.status_code)\n",
    "    print(f'HTTP Status: {http_status}')\n",
    "\n",
    "    if http_status == \"200\":\n",
    "        query_results = r.json()\n",
    "        query_df = pd.DataFrame(query_results)\n",
    "\n",
    "    else:\n",
    "        print(f\"RedCap API request Failed with HTTP Status: {http_status}\")\n",
    "        query_df = None\n",
    "        \n",
    "    return query_df\n",
    "\n",
    "def get_inventory_count(df, index_col, availability_indicators):\n",
    "    \"\"\" helper function to count participants with recorded data in redcap\n",
    "    \"\"\"\n",
    "    assess_cols = df.columns.drop(index_col)\n",
    "\n",
    "    if availability_indicators == 'number':\n",
    "        df = df.replace(\"\", np.nan)\n",
    "        df[assess_cols] = df[assess_cols].astype(np.float64)\n",
    "\n",
    "    inventory = {}\n",
    "    for col in assess_cols:        \n",
    "        if availability_indicators == 'number':\n",
    "            availability_count = df[~df[col].isna()][index_col].nunique()\n",
    "        else:\n",
    "            availability_count = df[df[col].isin(availability_indicators)][index_col].nunique()\n",
    "        inventory[col] = availability_count\n",
    "    return inventory"
   ]
  },
  {
   "cell_type": "markdown",
   "metadata": {},
   "source": [
    "### Data paths"
   ]
  },
  {
   "cell_type": "code",
   "execution_count": null,
   "metadata": {},
   "outputs": [],
   "source": [
    "DATASET_ROOT = \"/home/nikhil/projects/Parkinsons/qpn/\"\n",
    "\n",
    "# Current nipoppy manifest\n",
    "release_dir = f\"{DATASET_ROOT}/releases/\"\n",
    "current_release = \"Jan_2024\"\n",
    "current_nipoppy_manifest_csv = f\"{release_dir}{current_release}/tabular/manifest.csv\"\n",
    "legacy_qpn_imaging_codes_xlsx = f\"{release_dir}{current_release}/tabular/assessments/QPN_Imaging_Codes.xlsx\"\n",
    "\n",
    "# Legacy DoB (Roozbeh)\n",
    "legacy_participants_DOB = f\"{DATASET_ROOT}/tabular/legacy_freeze/QPN-DOB-90subjects.csv\"\n",
    "legacy_participants_DOB_codes = f\"{DATASET_ROOT}/tabular/legacy_freeze/QPN-DOB-codes.csv\"\n",
    "\n",
    "# Redcap report (Sarah)\n",
    "# redcap_report_csv = f\"{release_dir}{current_release}/tabular/assessments/COPN-MRIDataReport2023110_DATA_LABELS_2024-01-10_1004.csv\"\n",
    "redcap_report_csv = f\"{release_dir}{current_release}/tabular/assessments/COPN-MRIDataReport2023110_DATA_LABELS_2024-02-19_0851.csv\"\n",
    "\n",
    "# MRI dates (dicom header)\n",
    "MRI_dates_csv = f\"{DATASET_ROOT}/scratch/mri_dates_sanity_check.csv\"\n",
    "MRI_acq_data_csv = f\"{release_dir}{current_release}/tabular/MRI_acqdata.csv\"\n",
    "\n",
    "# Sharp lab Neurocog dates\n",
    "neurocog_date_xlsx = f\"{release_dir}{current_release}/tabular/assessments/Sharp_QPN_List.xlsx\"\n",
    "revised_neurocog_date_xlsx = f\"{release_dir}{current_release}/tabular/assessments/Sharp_QPN_List_revised.xlsx\"\n",
    "\n",
    "# Local Redcap query - avoid frequent API calls\n",
    "redcap_global_records_query_csv = f\"{release_dir}{current_release}/tabular/redcap_global_records_query.csv\""
   ]
  },
  {
   "cell_type": "markdown",
   "metadata": {},
   "source": [
    "### Redcap API configs"
   ]
  },
  {
   "cell_type": "code",
   "execution_count": null,
   "metadata": {},
   "outputs": [],
   "source": [
    "redcap_config_json = f\"{DATASET_ROOT}/proc/.redcap.json\"\n",
    "redcap_config = json.load(open(redcap_config_json))\n",
    "url = redcap_config[\"url\"]\n",
    "global_records_query = redcap_config[\"queries\"][\"global_records_query\"]\n",
    "\n",
    "index_col = \"record_id\""
   ]
  },
  {
   "cell_type": "code",
   "execution_count": null,
   "metadata": {},
   "outputs": [],
   "source": [
    "sarah_query = redcap_config[\"queries\"][\"QPN MoCA-UPDRS-Neuropsy data_Sarah\"]\n",
    "query_df = api_call(url, global_records_query, logger=None)"
   ]
  },
  {
   "cell_type": "code",
   "execution_count": null,
   "metadata": {},
   "outputs": [],
   "source": [
    "redcap_records = query_df[\"record_id\"].unique()\n",
    "n_records = query_df[\"record_id\"].nunique()\n",
    "redcap_cols = query_df.columns\n",
    "\n",
    "print(f\"Number of records: {n_records}\")\n",
    "print(f\"Number of columns: {len(redcap_cols)}\")"
   ]
  },
  {
   "cell_type": "markdown",
   "metadata": {},
   "source": [
    "### Redcap API call"
   ]
  },
  {
   "cell_type": "code",
   "execution_count": null,
   "metadata": {},
   "outputs": [],
   "source": [
    "load_local_redcap_records = True\n",
    "\n",
    "if load_local_redcap_records:\n",
    "    query_df = pd.read_csv(redcap_global_records_query_csv)\n",
    "\n",
    "else:\n",
    "    query_df = api_call(url, global_records_query, logger=None)\n",
    "    query_df.to_csv(redcap_global_records_query_csv, index=False)\n",
    "\n",
    "redcap_records = query_df[\"record_id\"].unique()\n",
    "n_records = query_df[\"record_id\"].nunique()\n",
    "redcap_cols = query_df.columns\n",
    "\n",
    "print(f\"Number of records: {n_records}\")\n",
    "print(f\"Number of columns: {len(redcap_cols)}\")\n",
    "\n",
    "\n",
    "## Get inventory of redcap records for various assessments\n",
    "record_dict = {}\n",
    "record_dict[\"all_redcap_records\"] = redcap_records\n"
   ]
  },
  {
   "cell_type": "markdown",
   "metadata": {},
   "source": [
    "### Find QPN records"
   ]
  },
  {
   "cell_type": "code",
   "execution_count": null,
   "metadata": {},
   "outputs": [],
   "source": [
    "substr = \"qpn\"\n",
    "res = [i for i in redcap_cols if substr in i]\n",
    "query_df[res].head()"
   ]
  },
  {
   "cell_type": "code",
   "execution_count": null,
   "metadata": {},
   "outputs": [],
   "source": [
    "_df= query_df[[index_col] + res]\n",
    "n_records = _df[\"record_id\"].nunique()\n",
    "print(f\"Number of records: {n_records}\")\n",
    "\n",
    "availability_indicators = [\"Checked\", \"Yes/Oui\", \"Uncertain/Incertain\"]\n",
    "qpn_redcap_inventory = get_inventory_count(_df, index_col, availability_indicators)\n",
    "\n",
    "qpn_redcap_df = pd.DataFrame(qpn_redcap_inventory.items(), columns=[\"Assessment\", \"Count\"]).sort_values(by=\"Count\", ascending=False)\n",
    "\n",
    "qpn_redcap_df.head()\n"
   ]
  },
  {
   "cell_type": "markdown",
   "metadata": {},
   "source": [
    "### Find records with MRI data"
   ]
  },
  {
   "cell_type": "code",
   "execution_count": null,
   "metadata": {},
   "outputs": [],
   "source": [
    "substr = \"mri\"\n",
    "res = [i for i in redcap_cols if substr in i]\n",
    "query_df[res].head()"
   ]
  },
  {
   "cell_type": "code",
   "execution_count": null,
   "metadata": {},
   "outputs": [],
   "source": [
    "_df= query_df[[index_col] + res]\n",
    "n_records = _df[\"record_id\"].nunique()\n",
    "print(f\"Number of records: {n_records}\")\n",
    "\n",
    "availability_indicators = [\"Checked\", \"Yes/Oui\", \"Uncertain/Incertain\"]\n",
    "qpn_mri_inventory = get_inventory_count(_df, index_col, availability_indicators)\n",
    "\n",
    "qpn_mri_inventory_df = pd.DataFrame(qpn_mri_inventory.items(), columns=[\"Assessment\", \"Count\"]).sort_values(by=\"Count\", ascending=False)\n",
    "\n",
    "qpn_mri_redcap_participants = query_df[query_df[\"qpn_mri\"].isin(availability_indicators)][\"record_id\"].unique()\n",
    "print(f\"Number of participants with MRI data: {len(qpn_mri_redcap_participants)}\")\n",
    "\n",
    "record_dict[\"qpn_mri\"] = qpn_mri_redcap_participants\n",
    "\n",
    "qpn_mri_inventory_df.head()"
   ]
  },
  {
   "cell_type": "markdown",
   "metadata": {},
   "source": [
    "### Find records with demographics data\n"
   ]
  },
  {
   "cell_type": "markdown",
   "metadata": {},
   "source": [
    "#### Age"
   ]
  },
  {
   "cell_type": "code",
   "execution_count": null,
   "metadata": {},
   "outputs": [],
   "source": [
    "substr = \"age\"\n",
    "ignore_substr = \"language\"\n",
    "res = [i for i in redcap_cols if substr in i]\n",
    "res = [i for i in res if ignore_substr not in i]\n",
    "query_df[res].head()"
   ]
  },
  {
   "cell_type": "code",
   "execution_count": null,
   "metadata": {},
   "outputs": [],
   "source": [
    "_df= query_df[[index_col] + res]\n",
    "\n",
    "n_records = _df[\"record_id\"].nunique()\n",
    "print(f\"n_records:{n_records}\")\n",
    "\n",
    "availability_indicators = \"number\"\n",
    "qpn_redcap_inventory = get_inventory_count(_df, index_col, availability_indicators)\n",
    "\n",
    "inventory_df = pd.DataFrame(qpn_redcap_inventory.items(), columns=[\"Assessment\", \"Count\"]).sort_values(by=\"Count\", ascending=False)\n",
    "\n",
    "# QPN overlap\n",
    "var_name = \"study_visit_age\"\n",
    "age_redcap_participants = _df[~_df[var_name].isna()][\"record_id\"].unique()\n",
    "\n",
    "print(f\"Number of participants with {var_name} data: {len(age_redcap_participants)}\")\n",
    "record_dict[\"study_visit_age\"] = age_redcap_participants\n",
    "\n",
    "inventory_df.head()"
   ]
  },
  {
   "cell_type": "markdown",
   "metadata": {},
   "source": [
    "#### Sex"
   ]
  },
  {
   "cell_type": "code",
   "execution_count": null,
   "metadata": {},
   "outputs": [],
   "source": [
    "substr = \"gender\"\n",
    "res = [i for i in redcap_cols if substr in i]\n",
    "query_df[res].head()"
   ]
  },
  {
   "cell_type": "code",
   "execution_count": null,
   "metadata": {},
   "outputs": [],
   "source": [
    "_df= query_df[[index_col] + res]\n",
    "\n",
    "n_records = _df[\"record_id\"].nunique()\n",
    "print(f\"n_records:{n_records}\")\n",
    "\n",
    "availability_indicators = ['Male/Masculin', 'Female/Féminin', 'Transgender/Transsexuel']\n",
    "qpn_redcap_inventory = get_inventory_count(_df, index_col, availability_indicators)\n",
    "\n",
    "inventory_df = pd.DataFrame(qpn_redcap_inventory.items(), columns=[\"Assessment\", \"Count\"]).sort_values(by=\"Count\", ascending=False)\n",
    "\n",
    "# QPN overlap\n",
    "var_name = \"gender\"\n",
    "gender_redcap_participants = _df[_df[var_name].isin(availability_indicators)][\"record_id\"].unique()\n",
    "\n",
    "print(f\"Number of participants with {var_name} data: {len(gender_redcap_participants)}\")\n",
    "record_dict[\"gender\"] = gender_redcap_participants\n",
    "\n",
    "inventory_df.head()"
   ]
  },
  {
   "cell_type": "markdown",
   "metadata": {},
   "source": [
    "#### Dx"
   ]
  },
  {
   "cell_type": "code",
   "execution_count": null,
   "metadata": {},
   "outputs": [],
   "source": [
    "res = [\"enrolment_group_v2\"] #\"diagnosis_determined\" - this is integer\n",
    "query_df[res].head()"
   ]
  },
  {
   "cell_type": "code",
   "execution_count": null,
   "metadata": {},
   "outputs": [],
   "source": [
    "_df= query_df[[index_col] + res]\n",
    "\n",
    "n_records = _df[\"record_id\"].nunique()\n",
    "print(f\"n_records:{n_records}\")\n",
    "\n",
    "availability_indicators = [\"PD   (Parkinson's Disease)/Maladie de Parkinson\",\n",
    "       'Healthy control/Contrôle',\n",
    "       'PPS (Parkinson Plus Syndrome)/PPS (Syndrome Parkinson Plus)']\n",
    "\n",
    "qpn_redcap_inventory = get_inventory_count(_df, index_col, availability_indicators)\n",
    "\n",
    "inventory_df = pd.DataFrame(qpn_redcap_inventory.items(), columns=[\"Assessment\", \"Count\"]).sort_values(by=\"Count\", ascending=False)\n",
    "\n",
    "# QPN overlap\n",
    "var_name = \"enrolment_group_v2\"\n",
    "dx_redcap_participants = _df[_df[var_name].isin(availability_indicators)][\"record_id\"].unique()\n",
    "\n",
    "print(f\"Number of participants with {var_name} data: {len(dx_redcap_participants)}\")\n",
    "record_dict[\"Dx\"] = dx_redcap_participants\n",
    "\n",
    "inventory_df.head()"
   ]
  },
  {
   "cell_type": "markdown",
   "metadata": {},
   "source": [
    "### Find records with phenotypic data"
   ]
  },
  {
   "cell_type": "markdown",
   "metadata": {},
   "source": [
    "#### Find records with updrs data"
   ]
  },
  {
   "cell_type": "code",
   "execution_count": null,
   "metadata": {},
   "outputs": [],
   "source": [
    "substr = \"updrs_score\"\n",
    "res = [i for i in redcap_cols if substr in i]\n",
    "query_df[res].head()"
   ]
  },
  {
   "cell_type": "code",
   "execution_count": null,
   "metadata": {},
   "outputs": [],
   "source": [
    "_df= query_df[[index_col] + res]\n",
    "\n",
    "n_records = _df[\"record_id\"].nunique()\n",
    "print(f\"n_records:{n_records}\")\n",
    "\n",
    "availability_indicators = \"number\"\n",
    "qpn_redcap_inventory = get_inventory_count(_df, index_col, availability_indicators)\n",
    "\n",
    "inventory_df = pd.DataFrame(qpn_redcap_inventory.items(), columns=[\"Assessment\", \"Count\"]).sort_values(by=\"Count\", ascending=False)\n",
    "\n",
    "# QPN overlap\n",
    "var_name = \"updrs_score_part_3\"\n",
    "updrs_redcap_participants = _df[~_df[var_name].isna()][\"record_id\"].unique()\n",
    "\n",
    "print(f\"Number of participants with {var_name} data: {len(updrs_redcap_participants)}\")\n",
    "\n",
    "record_dict[\"updrs_score_part_3\"] = updrs_redcap_participants\n",
    "\n",
    "inventory_df.head()"
   ]
  },
  {
   "cell_type": "markdown",
   "metadata": {},
   "source": [
    "#### MoCA"
   ]
  },
  {
   "cell_type": "code",
   "execution_count": null,
   "metadata": {},
   "outputs": [],
   "source": [
    "res = [\"moca_result\", \"moca_calculation\"]\n",
    "query_df[res].head()"
   ]
  },
  {
   "cell_type": "code",
   "execution_count": null,
   "metadata": {},
   "outputs": [],
   "source": [
    "_df= query_df[[index_col] + res]\n",
    "\n",
    "n_records = _df[\"record_id\"].nunique()\n",
    "print(f\"n_records:{n_records}\")\n",
    "\n",
    "availability_indicators = \"number\"\n",
    "qpn_redcap_inventory = get_inventory_count(_df, index_col, availability_indicators)\n",
    "\n",
    "inventory_df = pd.DataFrame(qpn_redcap_inventory.items(), columns=[\"Assessment\", \"Count\"]).sort_values(by=\"Count\", ascending=False)\n",
    "\n",
    "# QPN overlap\n",
    "var_name = \"moca_result\"\n",
    "moca_redcap_participants = _df[~_df[var_name].isna()][\"record_id\"].unique()\n",
    "\n",
    "print(f\"Number of participants with {var_name} data: {len(moca_redcap_participants)}\")\n",
    "\n",
    "record_dict[\"moca_result\"] = moca_redcap_participants\n",
    "\n",
    "inventory_df.head()"
   ]
  },
  {
   "cell_type": "markdown",
   "metadata": {},
   "source": [
    "#### Neurocog"
   ]
  },
  {
   "cell_type": "code",
   "execution_count": null,
   "metadata": {},
   "outputs": [],
   "source": [
    "substr = \"neurocog\"\n",
    "ignore_substr = \"date\"\n",
    "res = [i for i in redcap_cols if substr in i]\n",
    "res = [i for i in res if ignore_substr not in i]\n",
    "query_df[res].head()"
   ]
  },
  {
   "cell_type": "code",
   "execution_count": null,
   "metadata": {},
   "outputs": [],
   "source": [
    "_df= query_df[[index_col] + res]\n",
    "\n",
    "n_records = _df[\"record_id\"].nunique()\n",
    "print(f\"n_records:{n_records}\")\n",
    "\n",
    "availability_indicators = ['Checked', 'Yes/Oui', 'Uncertain/Incertain']\n",
    "qpn_redcap_inventory = get_inventory_count(_df, index_col, availability_indicators)\n",
    "\n",
    "inventory_df = pd.DataFrame(qpn_redcap_inventory.items(), columns=[\"Assessment\", \"Count\"]).sort_values(by=\"Count\", ascending=False)\n",
    "\n",
    "# QPN overlap\n",
    "var_name = \"qpn_neurocognitive___1\"\n",
    "neurocog_redcap_participants = _df[_df[var_name].isin(availability_indicators)][\"record_id\"].unique()\n",
    "\n",
    "print(f\"Number of participants with {var_name} data: {len(neurocog_redcap_participants)}\")\n",
    "\n",
    "record_dict[\"qpn_neurocognitive\"] = neurocog_redcap_participants\n",
    "\n",
    "inventory_df.head()"
   ]
  },
  {
   "cell_type": "markdown",
   "metadata": {},
   "source": [
    "### QPN manifest based on Suivi data"
   ]
  },
  {
   "cell_type": "code",
   "execution_count": null,
   "metadata": {},
   "outputs": [],
   "source": [
    "visit_list = [\"MRI_v1\"] \n",
    "session_id_list = [\"01\"]\n",
    "session_list = [f\"ses-{idx}\" for idx in session_id_list]\n",
    "\n",
    "manifest_cols = [\"participant_id\", \"visit\", \"session\"]\n",
    "\n",
    "current_nipoppy_manifest_df = pd.read_csv(current_nipoppy_manifest_csv)\n",
    "current_nipoppy_manifest_df = current_nipoppy_manifest_df[current_nipoppy_manifest_df[\"visit\"].isin(visit_list)]\n",
    "current_nipoppy_manifest_df = current_nipoppy_manifest_df[current_nipoppy_manifest_df[\"session\"].isin(session_list)]\n",
    "current_nipoppy_manifest_df = current_nipoppy_manifest_df[manifest_cols]\n",
    "current_nipoppy_manifest_df[\"participant_id\"] = current_nipoppy_manifest_df[\"participant_id\"].str.upper()\n",
    "nipoppy_participants = current_nipoppy_manifest_df[\"participant_id\"].unique()\n",
    "n_participants = len(nipoppy_participants)\n",
    "print(f\"n_participants: {n_participants}\")\n",
    "\n",
    "record_dict[\"nipoppy_participants\"] = nipoppy_participants\n",
    "\n",
    "current_nipoppy_manifest_df.head()"
   ]
  },
  {
   "cell_type": "markdown",
   "metadata": {},
   "source": [
    "### Get overlap between redcap and nipoppy"
   ]
  },
  {
   "cell_type": "code",
   "execution_count": null,
   "metadata": {},
   "outputs": [],
   "source": [
    "for k,v in record_dict.items():\n",
    "    print(f\"{k}: {len(v)}\")\n",
    "    n_overlap = len(set(v).intersection(set(nipoppy_participants)))\n",
    "    print(f\"\\tOverlap: {n_overlap}\")"
   ]
  },
  {
   "cell_type": "code",
   "execution_count": null,
   "metadata": {},
   "outputs": [],
   "source": [
    "substr = \"date\"\n",
    "res = [i for i in redcap_cols if substr in i]\n",
    "query_df[res].head()"
   ]
  },
  {
   "cell_type": "code",
   "execution_count": null,
   "metadata": {},
   "outputs": [],
   "source": [
    "date_cols = [\"full_mds_date_1\",\"full_mds_date_2\",\"full_mds_date_3\",\"moca_date_1\",\"moca_date_2\",\"moca_date_3\"]\n",
    "\n",
    "for col in date_cols:\n",
    "    query_df[col] = pd.to_datetime(query_df[col], errors='coerce')\n",
    "    n_available_dates = query_df[~query_df[col].isna()][index_col].nunique()\n",
    "    print(f\"{col}: {n_available_dates}\")"
   ]
  },
  {
   "cell_type": "code",
   "execution_count": null,
   "metadata": {},
   "outputs": [],
   "source": [
    "qpn_updrs_participants = set(nipoppy_participants).intersection(set(updrs_redcap_participants))\n",
    "updrs_df = query_df[query_df[index_col].isin(qpn_updrs_participants)][[index_col,\"redcap_event_name\", \"full_mds_date_1\", \"updrs_score_part_3\"]]\n",
    "updrs_df"
   ]
  },
  {
   "cell_type": "code",
   "execution_count": null,
   "metadata": {},
   "outputs": [],
   "source": [
    "len(qpn_updrs_participants)"
   ]
  },
  {
   "cell_type": "code",
   "execution_count": null,
   "metadata": {},
   "outputs": [],
   "source": []
  }
 ],
 "metadata": {
  "kernelspec": {
   "display_name": "nipoppy",
   "language": "python",
   "name": "python3"
  },
  "language_info": {
   "codemirror_mode": {
    "name": "ipython",
    "version": 3
   },
   "file_extension": ".py",
   "mimetype": "text/x-python",
   "name": "python",
   "nbconvert_exporter": "python",
   "pygments_lexer": "ipython3",
   "version": "3.10.12"
  },
  "orig_nbformat": 4
 },
 "nbformat": 4,
 "nbformat_minor": 2
}
